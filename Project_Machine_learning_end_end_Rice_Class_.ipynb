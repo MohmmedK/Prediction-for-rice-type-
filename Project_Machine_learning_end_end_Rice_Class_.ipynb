{
  "nbformat": 4,
  "nbformat_minor": 0,
  "metadata": {
    "colab": {
      "provenance": []
    },
    "kernelspec": {
      "name": "python3",
      "display_name": "Python 3"
    },
    "language_info": {
      "name": "python"
    },
    "accelerator": "GPU",
    "gpuClass": "standard"
  },
  "cells": [
    {
      "cell_type": "code",
      "execution_count": null,
      "metadata": {
        "id": "jrqqQ7-InyhE"
      },
      "outputs": [],
      "source": [
        "# An end-to-end Scikit-Learn workflow\n",
        "# Getting the data ready\n",
        "\n",
        "# Choose the right estimator/algorithm for our problems\n",
        "# Fit the model 'RF' 'SVM'  'LR' 'NN'\n",
        "\n",
        "\n",
        "# Evaluating a model\n",
        "# Improve a model \n",
        "\n",
        "\n",
        "# Make a prediction \n",
        "\n",
        "\n",
        "# Make any normalization (if needed).\n",
        "# Make any fix or replaces in the data (if needed)."
      ]
    },
    {
      "cell_type": "code",
      "source": [
        "import pandas as pd \n",
        "import numpy as np \n",
        "import matplotlib.pyplot as plt"
      ],
      "metadata": {
        "id": "-qkYbZUGoaR8"
      },
      "execution_count": null,
      "outputs": []
    },
    {
      "cell_type": "code",
      "source": [
        "df = pd.read_csv(\"riceClassification.csv\")"
      ],
      "metadata": {
        "id": "J456yeKboack"
      },
      "execution_count": null,
      "outputs": []
    },
    {
      "cell_type": "code",
      "source": [
        "df.head()"
      ],
      "metadata": {
        "colab": {
          "base_uri": "https://localhost:8080/",
          "height": 270
        },
        "id": "poKpAv2moafN",
        "outputId": "58654ac8-9179-4f5c-c801-9cb3289e16a2"
      },
      "execution_count": null,
      "outputs": [
        {
          "output_type": "execute_result",
          "data": {
            "text/plain": [
              "   id  Area  MajorAxisLength  MinorAxisLength  Eccentricity  ConvexArea  \\\n",
              "0   1  4537        92.229316        64.012769      0.719916        4677   \n",
              "1   2  2872        74.691881        51.400454      0.725553        3015   \n",
              "2   3  3048        76.293164        52.043491      0.731211        3132   \n",
              "3   4  3073        77.033628        51.928487      0.738639        3157   \n",
              "4   5  3693        85.124785        56.374021      0.749282        3802   \n",
              "\n",
              "   EquivDiameter    Extent  Perimeter  Roundness  AspectRation  Class  \n",
              "0      76.004525  0.657536    273.085   0.764510      1.440796      1  \n",
              "1      60.471018  0.713009    208.317   0.831658      1.453137      1  \n",
              "2      62.296341  0.759153    210.012   0.868434      1.465950      1  \n",
              "3      62.551300  0.783529    210.657   0.870203      1.483456      1  \n",
              "4      68.571668  0.769375    230.332   0.874743      1.510000      1  "
            ],
            "text/html": [
              "\n",
              "  <div id=\"df-aeb2f069-51c5-41b1-9d5d-bd7063bdfff5\">\n",
              "    <div class=\"colab-df-container\">\n",
              "      <div>\n",
              "<style scoped>\n",
              "    .dataframe tbody tr th:only-of-type {\n",
              "        vertical-align: middle;\n",
              "    }\n",
              "\n",
              "    .dataframe tbody tr th {\n",
              "        vertical-align: top;\n",
              "    }\n",
              "\n",
              "    .dataframe thead th {\n",
              "        text-align: right;\n",
              "    }\n",
              "</style>\n",
              "<table border=\"1\" class=\"dataframe\">\n",
              "  <thead>\n",
              "    <tr style=\"text-align: right;\">\n",
              "      <th></th>\n",
              "      <th>id</th>\n",
              "      <th>Area</th>\n",
              "      <th>MajorAxisLength</th>\n",
              "      <th>MinorAxisLength</th>\n",
              "      <th>Eccentricity</th>\n",
              "      <th>ConvexArea</th>\n",
              "      <th>EquivDiameter</th>\n",
              "      <th>Extent</th>\n",
              "      <th>Perimeter</th>\n",
              "      <th>Roundness</th>\n",
              "      <th>AspectRation</th>\n",
              "      <th>Class</th>\n",
              "    </tr>\n",
              "  </thead>\n",
              "  <tbody>\n",
              "    <tr>\n",
              "      <th>0</th>\n",
              "      <td>1</td>\n",
              "      <td>4537</td>\n",
              "      <td>92.229316</td>\n",
              "      <td>64.012769</td>\n",
              "      <td>0.719916</td>\n",
              "      <td>4677</td>\n",
              "      <td>76.004525</td>\n",
              "      <td>0.657536</td>\n",
              "      <td>273.085</td>\n",
              "      <td>0.764510</td>\n",
              "      <td>1.440796</td>\n",
              "      <td>1</td>\n",
              "    </tr>\n",
              "    <tr>\n",
              "      <th>1</th>\n",
              "      <td>2</td>\n",
              "      <td>2872</td>\n",
              "      <td>74.691881</td>\n",
              "      <td>51.400454</td>\n",
              "      <td>0.725553</td>\n",
              "      <td>3015</td>\n",
              "      <td>60.471018</td>\n",
              "      <td>0.713009</td>\n",
              "      <td>208.317</td>\n",
              "      <td>0.831658</td>\n",
              "      <td>1.453137</td>\n",
              "      <td>1</td>\n",
              "    </tr>\n",
              "    <tr>\n",
              "      <th>2</th>\n",
              "      <td>3</td>\n",
              "      <td>3048</td>\n",
              "      <td>76.293164</td>\n",
              "      <td>52.043491</td>\n",
              "      <td>0.731211</td>\n",
              "      <td>3132</td>\n",
              "      <td>62.296341</td>\n",
              "      <td>0.759153</td>\n",
              "      <td>210.012</td>\n",
              "      <td>0.868434</td>\n",
              "      <td>1.465950</td>\n",
              "      <td>1</td>\n",
              "    </tr>\n",
              "    <tr>\n",
              "      <th>3</th>\n",
              "      <td>4</td>\n",
              "      <td>3073</td>\n",
              "      <td>77.033628</td>\n",
              "      <td>51.928487</td>\n",
              "      <td>0.738639</td>\n",
              "      <td>3157</td>\n",
              "      <td>62.551300</td>\n",
              "      <td>0.783529</td>\n",
              "      <td>210.657</td>\n",
              "      <td>0.870203</td>\n",
              "      <td>1.483456</td>\n",
              "      <td>1</td>\n",
              "    </tr>\n",
              "    <tr>\n",
              "      <th>4</th>\n",
              "      <td>5</td>\n",
              "      <td>3693</td>\n",
              "      <td>85.124785</td>\n",
              "      <td>56.374021</td>\n",
              "      <td>0.749282</td>\n",
              "      <td>3802</td>\n",
              "      <td>68.571668</td>\n",
              "      <td>0.769375</td>\n",
              "      <td>230.332</td>\n",
              "      <td>0.874743</td>\n",
              "      <td>1.510000</td>\n",
              "      <td>1</td>\n",
              "    </tr>\n",
              "  </tbody>\n",
              "</table>\n",
              "</div>\n",
              "      <button class=\"colab-df-convert\" onclick=\"convertToInteractive('df-aeb2f069-51c5-41b1-9d5d-bd7063bdfff5')\"\n",
              "              title=\"Convert this dataframe to an interactive table.\"\n",
              "              style=\"display:none;\">\n",
              "        \n",
              "  <svg xmlns=\"http://www.w3.org/2000/svg\" height=\"24px\"viewBox=\"0 0 24 24\"\n",
              "       width=\"24px\">\n",
              "    <path d=\"M0 0h24v24H0V0z\" fill=\"none\"/>\n",
              "    <path d=\"M18.56 5.44l.94 2.06.94-2.06 2.06-.94-2.06-.94-.94-2.06-.94 2.06-2.06.94zm-11 1L8.5 8.5l.94-2.06 2.06-.94-2.06-.94L8.5 2.5l-.94 2.06-2.06.94zm10 10l.94 2.06.94-2.06 2.06-.94-2.06-.94-.94-2.06-.94 2.06-2.06.94z\"/><path d=\"M17.41 7.96l-1.37-1.37c-.4-.4-.92-.59-1.43-.59-.52 0-1.04.2-1.43.59L10.3 9.45l-7.72 7.72c-.78.78-.78 2.05 0 2.83L4 21.41c.39.39.9.59 1.41.59.51 0 1.02-.2 1.41-.59l7.78-7.78 2.81-2.81c.8-.78.8-2.07 0-2.86zM5.41 20L4 18.59l7.72-7.72 1.47 1.35L5.41 20z\"/>\n",
              "  </svg>\n",
              "      </button>\n",
              "      \n",
              "  <style>\n",
              "    .colab-df-container {\n",
              "      display:flex;\n",
              "      flex-wrap:wrap;\n",
              "      gap: 12px;\n",
              "    }\n",
              "\n",
              "    .colab-df-convert {\n",
              "      background-color: #E8F0FE;\n",
              "      border: none;\n",
              "      border-radius: 50%;\n",
              "      cursor: pointer;\n",
              "      display: none;\n",
              "      fill: #1967D2;\n",
              "      height: 32px;\n",
              "      padding: 0 0 0 0;\n",
              "      width: 32px;\n",
              "    }\n",
              "\n",
              "    .colab-df-convert:hover {\n",
              "      background-color: #E2EBFA;\n",
              "      box-shadow: 0px 1px 2px rgba(60, 64, 67, 0.3), 0px 1px 3px 1px rgba(60, 64, 67, 0.15);\n",
              "      fill: #174EA6;\n",
              "    }\n",
              "\n",
              "    [theme=dark] .colab-df-convert {\n",
              "      background-color: #3B4455;\n",
              "      fill: #D2E3FC;\n",
              "    }\n",
              "\n",
              "    [theme=dark] .colab-df-convert:hover {\n",
              "      background-color: #434B5C;\n",
              "      box-shadow: 0px 1px 3px 1px rgba(0, 0, 0, 0.15);\n",
              "      filter: drop-shadow(0px 1px 2px rgba(0, 0, 0, 0.3));\n",
              "      fill: #FFFFFF;\n",
              "    }\n",
              "  </style>\n",
              "\n",
              "      <script>\n",
              "        const buttonEl =\n",
              "          document.querySelector('#df-aeb2f069-51c5-41b1-9d5d-bd7063bdfff5 button.colab-df-convert');\n",
              "        buttonEl.style.display =\n",
              "          google.colab.kernel.accessAllowed ? 'block' : 'none';\n",
              "\n",
              "        async function convertToInteractive(key) {\n",
              "          const element = document.querySelector('#df-aeb2f069-51c5-41b1-9d5d-bd7063bdfff5');\n",
              "          const dataTable =\n",
              "            await google.colab.kernel.invokeFunction('convertToInteractive',\n",
              "                                                     [key], {});\n",
              "          if (!dataTable) return;\n",
              "\n",
              "          const docLinkHtml = 'Like what you see? Visit the ' +\n",
              "            '<a target=\"_blank\" href=https://colab.research.google.com/notebooks/data_table.ipynb>data table notebook</a>'\n",
              "            + ' to learn more about interactive tables.';\n",
              "          element.innerHTML = '';\n",
              "          dataTable['output_type'] = 'display_data';\n",
              "          await google.colab.output.renderOutput(dataTable, element);\n",
              "          const docLink = document.createElement('div');\n",
              "          docLink.innerHTML = docLinkHtml;\n",
              "          element.appendChild(docLink);\n",
              "        }\n",
              "      </script>\n",
              "    </div>\n",
              "  </div>\n",
              "  "
            ]
          },
          "metadata": {},
          "execution_count": 8
        }
      ]
    },
    {
      "cell_type": "code",
      "source": [
        "df.tail()"
      ],
      "metadata": {
        "colab": {
          "base_uri": "https://localhost:8080/",
          "height": 270
        },
        "id": "AeS_HvjUoahk",
        "outputId": "7c751c88-d1fe-4175-ed0a-09b29076b3fa"
      },
      "execution_count": null,
      "outputs": [
        {
          "output_type": "execute_result",
          "data": {
            "text/plain": [
              "          id  Area  MajorAxisLength  MinorAxisLength  Eccentricity  \\\n",
              "18180  18181  5853       148.624571        51.029281      0.939210   \n",
              "18181  18182  7585       169.593996        58.141659      0.939398   \n",
              "18182  18183  6365       154.777085        52.908085      0.939760   \n",
              "18183  18184  5960       151.397924        51.474600      0.940427   \n",
              "18184  18185  6134       153.081981        51.590606      0.941500   \n",
              "\n",
              "       ConvexArea  EquivDiameter    Extent  Perimeter  Roundness  \\\n",
              "18180        6008      86.326537  0.498594    332.960   0.663444   \n",
              "18181        7806      98.272692  0.647461    385.506   0.641362   \n",
              "18182        6531      90.023162  0.561287    342.253   0.682832   \n",
              "18183        6189      87.112041  0.492399    343.371   0.635227   \n",
              "18184        6283      88.374495  0.489975    338.613   0.672274   \n",
              "\n",
              "       AspectRation  Class  \n",
              "18180      2.912535      0  \n",
              "18181      2.916910      0  \n",
              "18182      2.925396      0  \n",
              "18183      2.941216      0  \n",
              "18184      2.967245      0  "
            ],
            "text/html": [
              "\n",
              "  <div id=\"df-4d3e6131-bcc8-4ab5-a97f-63d927dba768\">\n",
              "    <div class=\"colab-df-container\">\n",
              "      <div>\n",
              "<style scoped>\n",
              "    .dataframe tbody tr th:only-of-type {\n",
              "        vertical-align: middle;\n",
              "    }\n",
              "\n",
              "    .dataframe tbody tr th {\n",
              "        vertical-align: top;\n",
              "    }\n",
              "\n",
              "    .dataframe thead th {\n",
              "        text-align: right;\n",
              "    }\n",
              "</style>\n",
              "<table border=\"1\" class=\"dataframe\">\n",
              "  <thead>\n",
              "    <tr style=\"text-align: right;\">\n",
              "      <th></th>\n",
              "      <th>id</th>\n",
              "      <th>Area</th>\n",
              "      <th>MajorAxisLength</th>\n",
              "      <th>MinorAxisLength</th>\n",
              "      <th>Eccentricity</th>\n",
              "      <th>ConvexArea</th>\n",
              "      <th>EquivDiameter</th>\n",
              "      <th>Extent</th>\n",
              "      <th>Perimeter</th>\n",
              "      <th>Roundness</th>\n",
              "      <th>AspectRation</th>\n",
              "      <th>Class</th>\n",
              "    </tr>\n",
              "  </thead>\n",
              "  <tbody>\n",
              "    <tr>\n",
              "      <th>18180</th>\n",
              "      <td>18181</td>\n",
              "      <td>5853</td>\n",
              "      <td>148.624571</td>\n",
              "      <td>51.029281</td>\n",
              "      <td>0.939210</td>\n",
              "      <td>6008</td>\n",
              "      <td>86.326537</td>\n",
              "      <td>0.498594</td>\n",
              "      <td>332.960</td>\n",
              "      <td>0.663444</td>\n",
              "      <td>2.912535</td>\n",
              "      <td>0</td>\n",
              "    </tr>\n",
              "    <tr>\n",
              "      <th>18181</th>\n",
              "      <td>18182</td>\n",
              "      <td>7585</td>\n",
              "      <td>169.593996</td>\n",
              "      <td>58.141659</td>\n",
              "      <td>0.939398</td>\n",
              "      <td>7806</td>\n",
              "      <td>98.272692</td>\n",
              "      <td>0.647461</td>\n",
              "      <td>385.506</td>\n",
              "      <td>0.641362</td>\n",
              "      <td>2.916910</td>\n",
              "      <td>0</td>\n",
              "    </tr>\n",
              "    <tr>\n",
              "      <th>18182</th>\n",
              "      <td>18183</td>\n",
              "      <td>6365</td>\n",
              "      <td>154.777085</td>\n",
              "      <td>52.908085</td>\n",
              "      <td>0.939760</td>\n",
              "      <td>6531</td>\n",
              "      <td>90.023162</td>\n",
              "      <td>0.561287</td>\n",
              "      <td>342.253</td>\n",
              "      <td>0.682832</td>\n",
              "      <td>2.925396</td>\n",
              "      <td>0</td>\n",
              "    </tr>\n",
              "    <tr>\n",
              "      <th>18183</th>\n",
              "      <td>18184</td>\n",
              "      <td>5960</td>\n",
              "      <td>151.397924</td>\n",
              "      <td>51.474600</td>\n",
              "      <td>0.940427</td>\n",
              "      <td>6189</td>\n",
              "      <td>87.112041</td>\n",
              "      <td>0.492399</td>\n",
              "      <td>343.371</td>\n",
              "      <td>0.635227</td>\n",
              "      <td>2.941216</td>\n",
              "      <td>0</td>\n",
              "    </tr>\n",
              "    <tr>\n",
              "      <th>18184</th>\n",
              "      <td>18185</td>\n",
              "      <td>6134</td>\n",
              "      <td>153.081981</td>\n",
              "      <td>51.590606</td>\n",
              "      <td>0.941500</td>\n",
              "      <td>6283</td>\n",
              "      <td>88.374495</td>\n",
              "      <td>0.489975</td>\n",
              "      <td>338.613</td>\n",
              "      <td>0.672274</td>\n",
              "      <td>2.967245</td>\n",
              "      <td>0</td>\n",
              "    </tr>\n",
              "  </tbody>\n",
              "</table>\n",
              "</div>\n",
              "      <button class=\"colab-df-convert\" onclick=\"convertToInteractive('df-4d3e6131-bcc8-4ab5-a97f-63d927dba768')\"\n",
              "              title=\"Convert this dataframe to an interactive table.\"\n",
              "              style=\"display:none;\">\n",
              "        \n",
              "  <svg xmlns=\"http://www.w3.org/2000/svg\" height=\"24px\"viewBox=\"0 0 24 24\"\n",
              "       width=\"24px\">\n",
              "    <path d=\"M0 0h24v24H0V0z\" fill=\"none\"/>\n",
              "    <path d=\"M18.56 5.44l.94 2.06.94-2.06 2.06-.94-2.06-.94-.94-2.06-.94 2.06-2.06.94zm-11 1L8.5 8.5l.94-2.06 2.06-.94-2.06-.94L8.5 2.5l-.94 2.06-2.06.94zm10 10l.94 2.06.94-2.06 2.06-.94-2.06-.94-.94-2.06-.94 2.06-2.06.94z\"/><path d=\"M17.41 7.96l-1.37-1.37c-.4-.4-.92-.59-1.43-.59-.52 0-1.04.2-1.43.59L10.3 9.45l-7.72 7.72c-.78.78-.78 2.05 0 2.83L4 21.41c.39.39.9.59 1.41.59.51 0 1.02-.2 1.41-.59l7.78-7.78 2.81-2.81c.8-.78.8-2.07 0-2.86zM5.41 20L4 18.59l7.72-7.72 1.47 1.35L5.41 20z\"/>\n",
              "  </svg>\n",
              "      </button>\n",
              "      \n",
              "  <style>\n",
              "    .colab-df-container {\n",
              "      display:flex;\n",
              "      flex-wrap:wrap;\n",
              "      gap: 12px;\n",
              "    }\n",
              "\n",
              "    .colab-df-convert {\n",
              "      background-color: #E8F0FE;\n",
              "      border: none;\n",
              "      border-radius: 50%;\n",
              "      cursor: pointer;\n",
              "      display: none;\n",
              "      fill: #1967D2;\n",
              "      height: 32px;\n",
              "      padding: 0 0 0 0;\n",
              "      width: 32px;\n",
              "    }\n",
              "\n",
              "    .colab-df-convert:hover {\n",
              "      background-color: #E2EBFA;\n",
              "      box-shadow: 0px 1px 2px rgba(60, 64, 67, 0.3), 0px 1px 3px 1px rgba(60, 64, 67, 0.15);\n",
              "      fill: #174EA6;\n",
              "    }\n",
              "\n",
              "    [theme=dark] .colab-df-convert {\n",
              "      background-color: #3B4455;\n",
              "      fill: #D2E3FC;\n",
              "    }\n",
              "\n",
              "    [theme=dark] .colab-df-convert:hover {\n",
              "      background-color: #434B5C;\n",
              "      box-shadow: 0px 1px 3px 1px rgba(0, 0, 0, 0.15);\n",
              "      filter: drop-shadow(0px 1px 2px rgba(0, 0, 0, 0.3));\n",
              "      fill: #FFFFFF;\n",
              "    }\n",
              "  </style>\n",
              "\n",
              "      <script>\n",
              "        const buttonEl =\n",
              "          document.querySelector('#df-4d3e6131-bcc8-4ab5-a97f-63d927dba768 button.colab-df-convert');\n",
              "        buttonEl.style.display =\n",
              "          google.colab.kernel.accessAllowed ? 'block' : 'none';\n",
              "\n",
              "        async function convertToInteractive(key) {\n",
              "          const element = document.querySelector('#df-4d3e6131-bcc8-4ab5-a97f-63d927dba768');\n",
              "          const dataTable =\n",
              "            await google.colab.kernel.invokeFunction('convertToInteractive',\n",
              "                                                     [key], {});\n",
              "          if (!dataTable) return;\n",
              "\n",
              "          const docLinkHtml = 'Like what you see? Visit the ' +\n",
              "            '<a target=\"_blank\" href=https://colab.research.google.com/notebooks/data_table.ipynb>data table notebook</a>'\n",
              "            + ' to learn more about interactive tables.';\n",
              "          element.innerHTML = '';\n",
              "          dataTable['output_type'] = 'display_data';\n",
              "          await google.colab.output.renderOutput(dataTable, element);\n",
              "          const docLink = document.createElement('div');\n",
              "          docLink.innerHTML = docLinkHtml;\n",
              "          element.appendChild(docLink);\n",
              "        }\n",
              "      </script>\n",
              "    </div>\n",
              "  </div>\n",
              "  "
            ]
          },
          "metadata": {},
          "execution_count": 9
        }
      ]
    },
    {
      "cell_type": "code",
      "source": [
        "# try to understand the data ! \n",
        "df.describe()"
      ],
      "metadata": {
        "colab": {
          "base_uri": "https://localhost:8080/",
          "height": 364
        },
        "id": "Z-W6oRESoaj1",
        "outputId": "9d25b95f-0855-4458-cffc-f557bf8d9014"
      },
      "execution_count": null,
      "outputs": [
        {
          "output_type": "execute_result",
          "data": {
            "text/plain": [
              "                 id          Area  MajorAxisLength  MinorAxisLength  \\\n",
              "count  18185.000000  18185.000000     18185.000000     18185.000000   \n",
              "mean    9093.000000   7036.492989       151.680754        59.807851   \n",
              "std     5249.701658   1467.197150        12.376402        10.061653   \n",
              "min        1.000000   2522.000000        74.133114        34.409894   \n",
              "25%     4547.000000   5962.000000       145.675910        51.393151   \n",
              "50%     9093.000000   6660.000000       153.883750        55.724288   \n",
              "75%    13639.000000   8423.000000       160.056214        70.156593   \n",
              "max    18185.000000  10210.000000       183.211434        82.550762   \n",
              "\n",
              "       Eccentricity    ConvexArea  EquivDiameter        Extent     Perimeter  \\\n",
              "count  18185.000000  18185.000000   18185.000000  18185.000000  18185.000000   \n",
              "mean       0.915406   7225.817872      94.132952      0.616653    351.606949   \n",
              "std        0.030575   1502.006571       9.906250      0.104389     29.500620   \n",
              "min        0.676647   2579.000000      56.666658      0.383239    197.015000   \n",
              "25%        0.891617   6125.000000      87.126656      0.538530    333.990000   \n",
              "50%        0.923259   6843.000000      92.085696      0.601194    353.088000   \n",
              "75%        0.941372   8645.000000     103.559146      0.695664    373.003000   \n",
              "max        0.966774  11008.000000     114.016559      0.886573    508.511000   \n",
              "\n",
              "          Roundness  AspectRation         Class  \n",
              "count  18185.000000  18185.000000  18185.000000  \n",
              "mean       0.707998      2.599081      0.549079  \n",
              "std        0.067310      0.434836      0.497599  \n",
              "min        0.174590      1.358128      0.000000  \n",
              "25%        0.650962      2.208527      0.000000  \n",
              "50%        0.701941      2.602966      1.000000  \n",
              "75%        0.769280      2.964101      1.000000  \n",
              "max        0.904748      3.911845      1.000000  "
            ],
            "text/html": [
              "\n",
              "  <div id=\"df-ffec46ba-6fd8-41c4-ac86-7ab6a3b998ef\">\n",
              "    <div class=\"colab-df-container\">\n",
              "      <div>\n",
              "<style scoped>\n",
              "    .dataframe tbody tr th:only-of-type {\n",
              "        vertical-align: middle;\n",
              "    }\n",
              "\n",
              "    .dataframe tbody tr th {\n",
              "        vertical-align: top;\n",
              "    }\n",
              "\n",
              "    .dataframe thead th {\n",
              "        text-align: right;\n",
              "    }\n",
              "</style>\n",
              "<table border=\"1\" class=\"dataframe\">\n",
              "  <thead>\n",
              "    <tr style=\"text-align: right;\">\n",
              "      <th></th>\n",
              "      <th>id</th>\n",
              "      <th>Area</th>\n",
              "      <th>MajorAxisLength</th>\n",
              "      <th>MinorAxisLength</th>\n",
              "      <th>Eccentricity</th>\n",
              "      <th>ConvexArea</th>\n",
              "      <th>EquivDiameter</th>\n",
              "      <th>Extent</th>\n",
              "      <th>Perimeter</th>\n",
              "      <th>Roundness</th>\n",
              "      <th>AspectRation</th>\n",
              "      <th>Class</th>\n",
              "    </tr>\n",
              "  </thead>\n",
              "  <tbody>\n",
              "    <tr>\n",
              "      <th>count</th>\n",
              "      <td>18185.000000</td>\n",
              "      <td>18185.000000</td>\n",
              "      <td>18185.000000</td>\n",
              "      <td>18185.000000</td>\n",
              "      <td>18185.000000</td>\n",
              "      <td>18185.000000</td>\n",
              "      <td>18185.000000</td>\n",
              "      <td>18185.000000</td>\n",
              "      <td>18185.000000</td>\n",
              "      <td>18185.000000</td>\n",
              "      <td>18185.000000</td>\n",
              "      <td>18185.000000</td>\n",
              "    </tr>\n",
              "    <tr>\n",
              "      <th>mean</th>\n",
              "      <td>9093.000000</td>\n",
              "      <td>7036.492989</td>\n",
              "      <td>151.680754</td>\n",
              "      <td>59.807851</td>\n",
              "      <td>0.915406</td>\n",
              "      <td>7225.817872</td>\n",
              "      <td>94.132952</td>\n",
              "      <td>0.616653</td>\n",
              "      <td>351.606949</td>\n",
              "      <td>0.707998</td>\n",
              "      <td>2.599081</td>\n",
              "      <td>0.549079</td>\n",
              "    </tr>\n",
              "    <tr>\n",
              "      <th>std</th>\n",
              "      <td>5249.701658</td>\n",
              "      <td>1467.197150</td>\n",
              "      <td>12.376402</td>\n",
              "      <td>10.061653</td>\n",
              "      <td>0.030575</td>\n",
              "      <td>1502.006571</td>\n",
              "      <td>9.906250</td>\n",
              "      <td>0.104389</td>\n",
              "      <td>29.500620</td>\n",
              "      <td>0.067310</td>\n",
              "      <td>0.434836</td>\n",
              "      <td>0.497599</td>\n",
              "    </tr>\n",
              "    <tr>\n",
              "      <th>min</th>\n",
              "      <td>1.000000</td>\n",
              "      <td>2522.000000</td>\n",
              "      <td>74.133114</td>\n",
              "      <td>34.409894</td>\n",
              "      <td>0.676647</td>\n",
              "      <td>2579.000000</td>\n",
              "      <td>56.666658</td>\n",
              "      <td>0.383239</td>\n",
              "      <td>197.015000</td>\n",
              "      <td>0.174590</td>\n",
              "      <td>1.358128</td>\n",
              "      <td>0.000000</td>\n",
              "    </tr>\n",
              "    <tr>\n",
              "      <th>25%</th>\n",
              "      <td>4547.000000</td>\n",
              "      <td>5962.000000</td>\n",
              "      <td>145.675910</td>\n",
              "      <td>51.393151</td>\n",
              "      <td>0.891617</td>\n",
              "      <td>6125.000000</td>\n",
              "      <td>87.126656</td>\n",
              "      <td>0.538530</td>\n",
              "      <td>333.990000</td>\n",
              "      <td>0.650962</td>\n",
              "      <td>2.208527</td>\n",
              "      <td>0.000000</td>\n",
              "    </tr>\n",
              "    <tr>\n",
              "      <th>50%</th>\n",
              "      <td>9093.000000</td>\n",
              "      <td>6660.000000</td>\n",
              "      <td>153.883750</td>\n",
              "      <td>55.724288</td>\n",
              "      <td>0.923259</td>\n",
              "      <td>6843.000000</td>\n",
              "      <td>92.085696</td>\n",
              "      <td>0.601194</td>\n",
              "      <td>353.088000</td>\n",
              "      <td>0.701941</td>\n",
              "      <td>2.602966</td>\n",
              "      <td>1.000000</td>\n",
              "    </tr>\n",
              "    <tr>\n",
              "      <th>75%</th>\n",
              "      <td>13639.000000</td>\n",
              "      <td>8423.000000</td>\n",
              "      <td>160.056214</td>\n",
              "      <td>70.156593</td>\n",
              "      <td>0.941372</td>\n",
              "      <td>8645.000000</td>\n",
              "      <td>103.559146</td>\n",
              "      <td>0.695664</td>\n",
              "      <td>373.003000</td>\n",
              "      <td>0.769280</td>\n",
              "      <td>2.964101</td>\n",
              "      <td>1.000000</td>\n",
              "    </tr>\n",
              "    <tr>\n",
              "      <th>max</th>\n",
              "      <td>18185.000000</td>\n",
              "      <td>10210.000000</td>\n",
              "      <td>183.211434</td>\n",
              "      <td>82.550762</td>\n",
              "      <td>0.966774</td>\n",
              "      <td>11008.000000</td>\n",
              "      <td>114.016559</td>\n",
              "      <td>0.886573</td>\n",
              "      <td>508.511000</td>\n",
              "      <td>0.904748</td>\n",
              "      <td>3.911845</td>\n",
              "      <td>1.000000</td>\n",
              "    </tr>\n",
              "  </tbody>\n",
              "</table>\n",
              "</div>\n",
              "      <button class=\"colab-df-convert\" onclick=\"convertToInteractive('df-ffec46ba-6fd8-41c4-ac86-7ab6a3b998ef')\"\n",
              "              title=\"Convert this dataframe to an interactive table.\"\n",
              "              style=\"display:none;\">\n",
              "        \n",
              "  <svg xmlns=\"http://www.w3.org/2000/svg\" height=\"24px\"viewBox=\"0 0 24 24\"\n",
              "       width=\"24px\">\n",
              "    <path d=\"M0 0h24v24H0V0z\" fill=\"none\"/>\n",
              "    <path d=\"M18.56 5.44l.94 2.06.94-2.06 2.06-.94-2.06-.94-.94-2.06-.94 2.06-2.06.94zm-11 1L8.5 8.5l.94-2.06 2.06-.94-2.06-.94L8.5 2.5l-.94 2.06-2.06.94zm10 10l.94 2.06.94-2.06 2.06-.94-2.06-.94-.94-2.06-.94 2.06-2.06.94z\"/><path d=\"M17.41 7.96l-1.37-1.37c-.4-.4-.92-.59-1.43-.59-.52 0-1.04.2-1.43.59L10.3 9.45l-7.72 7.72c-.78.78-.78 2.05 0 2.83L4 21.41c.39.39.9.59 1.41.59.51 0 1.02-.2 1.41-.59l7.78-7.78 2.81-2.81c.8-.78.8-2.07 0-2.86zM5.41 20L4 18.59l7.72-7.72 1.47 1.35L5.41 20z\"/>\n",
              "  </svg>\n",
              "      </button>\n",
              "      \n",
              "  <style>\n",
              "    .colab-df-container {\n",
              "      display:flex;\n",
              "      flex-wrap:wrap;\n",
              "      gap: 12px;\n",
              "    }\n",
              "\n",
              "    .colab-df-convert {\n",
              "      background-color: #E8F0FE;\n",
              "      border: none;\n",
              "      border-radius: 50%;\n",
              "      cursor: pointer;\n",
              "      display: none;\n",
              "      fill: #1967D2;\n",
              "      height: 32px;\n",
              "      padding: 0 0 0 0;\n",
              "      width: 32px;\n",
              "    }\n",
              "\n",
              "    .colab-df-convert:hover {\n",
              "      background-color: #E2EBFA;\n",
              "      box-shadow: 0px 1px 2px rgba(60, 64, 67, 0.3), 0px 1px 3px 1px rgba(60, 64, 67, 0.15);\n",
              "      fill: #174EA6;\n",
              "    }\n",
              "\n",
              "    [theme=dark] .colab-df-convert {\n",
              "      background-color: #3B4455;\n",
              "      fill: #D2E3FC;\n",
              "    }\n",
              "\n",
              "    [theme=dark] .colab-df-convert:hover {\n",
              "      background-color: #434B5C;\n",
              "      box-shadow: 0px 1px 3px 1px rgba(0, 0, 0, 0.15);\n",
              "      filter: drop-shadow(0px 1px 2px rgba(0, 0, 0, 0.3));\n",
              "      fill: #FFFFFF;\n",
              "    }\n",
              "  </style>\n",
              "\n",
              "      <script>\n",
              "        const buttonEl =\n",
              "          document.querySelector('#df-ffec46ba-6fd8-41c4-ac86-7ab6a3b998ef button.colab-df-convert');\n",
              "        buttonEl.style.display =\n",
              "          google.colab.kernel.accessAllowed ? 'block' : 'none';\n",
              "\n",
              "        async function convertToInteractive(key) {\n",
              "          const element = document.querySelector('#df-ffec46ba-6fd8-41c4-ac86-7ab6a3b998ef');\n",
              "          const dataTable =\n",
              "            await google.colab.kernel.invokeFunction('convertToInteractive',\n",
              "                                                     [key], {});\n",
              "          if (!dataTable) return;\n",
              "\n",
              "          const docLinkHtml = 'Like what you see? Visit the ' +\n",
              "            '<a target=\"_blank\" href=https://colab.research.google.com/notebooks/data_table.ipynb>data table notebook</a>'\n",
              "            + ' to learn more about interactive tables.';\n",
              "          element.innerHTML = '';\n",
              "          dataTable['output_type'] = 'display_data';\n",
              "          await google.colab.output.renderOutput(dataTable, element);\n",
              "          const docLink = document.createElement('div');\n",
              "          docLink.innerHTML = docLinkHtml;\n",
              "          element.appendChild(docLink);\n",
              "        }\n",
              "      </script>\n",
              "    </div>\n",
              "  </div>\n",
              "  "
            ]
          },
          "metadata": {},
          "execution_count": 10
        }
      ]
    },
    {
      "cell_type": "code",
      "source": [
        "df.info()"
      ],
      "metadata": {
        "colab": {
          "base_uri": "https://localhost:8080/"
        },
        "id": "eoL83fhUoamL",
        "outputId": "42f2052d-11dc-47da-edc8-5b80014a98ea"
      },
      "execution_count": null,
      "outputs": [
        {
          "output_type": "stream",
          "name": "stdout",
          "text": [
            "<class 'pandas.core.frame.DataFrame'>\n",
            "RangeIndex: 18185 entries, 0 to 18184\n",
            "Data columns (total 12 columns):\n",
            " #   Column           Non-Null Count  Dtype  \n",
            "---  ------           --------------  -----  \n",
            " 0   id               18185 non-null  int64  \n",
            " 1   Area             18185 non-null  int64  \n",
            " 2   MajorAxisLength  18185 non-null  float64\n",
            " 3   MinorAxisLength  18185 non-null  float64\n",
            " 4   Eccentricity     18185 non-null  float64\n",
            " 5   ConvexArea       18185 non-null  int64  \n",
            " 6   EquivDiameter    18185 non-null  float64\n",
            " 7   Extent           18185 non-null  float64\n",
            " 8   Perimeter        18185 non-null  float64\n",
            " 9   Roundness        18185 non-null  float64\n",
            " 10  AspectRation     18185 non-null  float64\n",
            " 11  Class            18185 non-null  int64  \n",
            "dtypes: float64(8), int64(4)\n",
            "memory usage: 1.7 MB\n"
          ]
        }
      ]
    },
    {
      "cell_type": "code",
      "source": [
        "df.keys()"
      ],
      "metadata": {
        "colab": {
          "base_uri": "https://localhost:8080/"
        },
        "id": "50r2BuOgoaoE",
        "outputId": "342cc5d3-7699-46d9-ee8e-377f066acee6"
      },
      "execution_count": null,
      "outputs": [
        {
          "output_type": "execute_result",
          "data": {
            "text/plain": [
              "Index(['id', 'Area', 'MajorAxisLength', 'MinorAxisLength', 'Eccentricity',\n",
              "       'ConvexArea', 'EquivDiameter', 'Extent', 'Perimeter', 'Roundness',\n",
              "       'AspectRation', 'Class'],\n",
              "      dtype='object')"
            ]
          },
          "metadata": {},
          "execution_count": 12
        }
      ]
    },
    {
      "cell_type": "code",
      "source": [
        "#correlation value between features\n",
        "import seaborn as sns\n",
        "import matplotlib.pyplot as plt\n",
        "corr = df.corr()\n",
        "fig = plt.figure(figsize=(10,8))\n",
        "r = sns.heatmap(corr, cmap='Purples')\n",
        "r.set_title(\"Correlation\")\n",
        "plt.xlabel('Predicted')\n",
        "plt.ylabel('Truth')"
      ],
      "metadata": {
        "colab": {
          "base_uri": "https://localhost:8080/",
          "height": 603
        },
        "id": "UPN7pCaloaqZ",
        "outputId": "d5f7585a-73bc-45f4-ceaa-ab4b8fa9e0c0"
      },
      "execution_count": null,
      "outputs": [
        {
          "output_type": "execute_result",
          "data": {
            "text/plain": [
              "Text(69.0, 0.5, 'Truth')"
            ]
          },
          "metadata": {},
          "execution_count": 13
        },
        {
          "output_type": "display_data",
          "data": {
            "text/plain": [
              "<Figure size 720x576 with 2 Axes>"
            ],
            "image/png": "[encoded data removed]"
          },
          "metadata": {
            "needs_background": "light"
          }
        }
      ]
    },
    {
      "cell_type": "code",
      "source": [
        "# see if there's any missing data in \n",
        "df.isnull().sum()"
      ],
      "metadata": {
        "colab": {
          "base_uri": "https://localhost:8080/"
        },
        "id": "Yfnqj-3zoasv",
        "outputId": "e242c270-a6c2-4f66-b516-f838e6d1d487"
      },
      "execution_count": null,
      "outputs": [
        {
          "output_type": "execute_result",
          "data": {
            "text/plain": [
              "id                 0\n",
              "Area               0\n",
              "MajorAxisLength    0\n",
              "MinorAxisLength    0\n",
              "Eccentricity       0\n",
              "ConvexArea         0\n",
              "EquivDiameter      0\n",
              "Extent             0\n",
              "Perimeter          0\n",
              "Roundness          0\n",
              "AspectRation       0\n",
              "Class              0\n",
              "dtype: int64"
            ]
          },
          "metadata": {},
          "execution_count": 14
        }
      ]
    },
    {
      "cell_type": "code",
      "source": [
        "# try to count is the two class balanced ? \n",
        "df['Class'].value_counts().plot(kind=\"bar\", color=[\"salmon\", \"lightblue\"]);"
      ],
      "metadata": {
        "colab": {
          "base_uri": "https://localhost:8080/",
          "height": 262
        },
        "id": "NPZVPtQDoavJ",
        "outputId": "1e89e80e-08c3-48c0-9943-9d482ac0a4d1"
      },
      "execution_count": null,
      "outputs": [
        {
          "output_type": "display_data",
          "data": {
            "text/plain": [
              "<Figure size 432x288 with 1 Axes>"
            ],
            "image/png": "[encoded data removed]"
          },
          "metadata": {
            "needs_background": "light"
          }
        }
      ]
    },
    {
      "cell_type": "code",
      "source": [
        "df['Class'].value_counts()"
      ],
      "metadata": {
        "colab": {
          "base_uri": "https://localhost:8080/"
        },
        "id": "UUMpeSsaoqre",
        "outputId": "91a35aa5-3af1-4c2e-fabb-37bd52ca7133"
      },
      "execution_count": null,
      "outputs": [
        {
          "output_type": "execute_result",
          "data": {
            "text/plain": [
              "1    9985\n",
              "0    8200\n",
              "Name: Class, dtype: int64"
            ]
          },
          "metadata": {},
          "execution_count": 16
        }
      ]
    },
    {
      "cell_type": "code",
      "source": [
        "# Plot the data to get idea \n",
        "plt.scatter(df.AspectRation,df.Class,marker='+',color='red')\n",
        "plt.ylabel('Class')\n",
        "plt.xlabel('AspectRation')"
      ],
      "metadata": {
        "colab": {
          "base_uri": "https://localhost:8080/",
          "height": 296
        },
        "id": "2S-a9ap4oquD",
        "outputId": "569375a2-72ed-4ec1-a8c8-a05cf003db49"
      },
      "execution_count": null,
      "outputs": [
        {
          "output_type": "execute_result",
          "data": {
            "text/plain": [
              "Text(0.5, 0, 'AspectRation')"
            ]
          },
          "metadata": {},
          "execution_count": 17
        },
        {
          "output_type": "display_data",
          "data": {
            "text/plain": [
              "<Figure size 432x288 with 1 Axes>"
            ],
            "image/png": "[encoded data removed]"
          },
          "metadata": {
            "needs_background": "light"
          }
        }
      ]
    },
    {
      "cell_type": "code",
      "source": [
        "from sklearn.model_selection import train_test_split\n",
        "from sklearn.ensemble import RandomForestClassifier\n",
        "X = df.drop(['id','Class'], axis=1)\n",
        "y = df['Class']\n",
        "X_train, X_test, y_train, y_test = train_test_split(X, y, test_size=0.2)\n",
        "\n",
        "# Instantiate Random Forest Classifier\n",
        "clf = RandomForestClassifier(n_estimators=1000)\n",
        "\n",
        "# Fit the model to the data (training the machine learning model)\n",
        "clf.fit(X_train, y_train)"
      ],
      "metadata": {
        "colab": {
          "base_uri": "https://localhost:8080/"
        },
        "id": "ObCRPGZMoqwe",
        "outputId": "e2906c8d-9b75-47cc-c456-6e3217d0f74e"
      },
      "execution_count": null,
      "outputs": [
        {
          "output_type": "execute_result",
          "data": {
            "text/plain": [
              "RandomForestClassifier(n_estimators=1000)"
            ]
          },
          "metadata": {},
          "execution_count": 18
        }
      ]
    },
    {
      "cell_type": "code",
      "source": [
        "# The highest value for the .score() method is 1.0, the lowest is 0.0\n",
        "clf.score(X_train, y_train)"
      ],
      "metadata": {
        "colab": {
          "base_uri": "https://localhost:8080/"
        },
        "id": "d32BRzn-oqzC",
        "outputId": "c052ba53-fe5c-465a-be4d-0be09c915bdd"
      },
      "execution_count": null,
      "outputs": [
        {
          "output_type": "execute_result",
          "data": {
            "text/plain": [
              "1.0"
            ]
          },
          "metadata": {},
          "execution_count": 19
        }
      ]
    },
    {
      "cell_type": "code",
      "source": [
        "clf.score(X_test, y_test)\n"
      ],
      "metadata": {
        "colab": {
          "base_uri": "https://localhost:8080/"
        },
        "id": "fJmyT3QYoq1n",
        "outputId": "f5f04d18-18ba-4d4e-d9cf-7836a386ca40"
      },
      "execution_count": null,
      "outputs": [
        {
          "output_type": "execute_result",
          "data": {
            "text/plain": [
              "0.9914764916139676"
            ]
          },
          "metadata": {},
          "execution_count": 20
        }
      ]
    },
    {
      "cell_type": "code",
      "source": [
        "#Normalizing the data\n",
        "from sklearn.preprocessing import StandardScaler\n",
        "sc = StandardScaler()\n",
        "X_train = sc.fit_transform(X_train)\n",
        "X_test = sc.fit_transform(X_test)"
      ],
      "metadata": {
        "id": "l63JWI4u26Gl"
      },
      "execution_count": null,
      "outputs": []
    },
    {
      "cell_type": "code",
      "source": [
        "from sklearn.model_selection import cross_val_score\n",
        "cross_val_score(clf, X, y, cv=5)"
      ],
      "metadata": {
        "colab": {
          "base_uri": "https://localhost:8080/"
        },
        "id": "1QPDAfh-oq34",
        "outputId": "7833a41e-2f96-4047-fcd9-c5c9df4ef178"
      },
      "execution_count": null,
      "outputs": [
        {
          "output_type": "execute_result",
          "data": {
            "text/plain": [
              "array([0.47154248, 0.91586472, 0.93786087, 0.99725048, 0.58289799])"
            ]
          },
          "metadata": {},
          "execution_count": 37
        }
      ]
    },
    {
      "cell_type": "code",
      "source": [
        "cross_val_score(clf, X, y, cv=10)\n"
      ],
      "metadata": {
        "colab": {
          "base_uri": "https://localhost:8080/"
        },
        "id": "XfDmw4Nfoq6t",
        "outputId": "9b9d4cab-6660-4e87-f72f-c02e5a3e45e3"
      },
      "execution_count": null,
      "outputs": [
        {
          "output_type": "execute_result",
          "data": {
            "text/plain": [
              "array([0.45134689, 0.68664101, 0.99945025, 0.99945025, 0.99890049,\n",
              "       1.        , 0.99944994, 0.99669967, 0.99724972, 0.56050605])"
            ]
          },
          "metadata": {},
          "execution_count": 38
        }
      ]
    },
    {
      "cell_type": "code",
      "source": [
        "# Take the mean of 5-fold cross-validation score\n",
        "clf_cross_val_score = np.mean(cross_val_score(clf, X, y, cv=5))\n",
        "# Compare the two\n",
        "clf_cross_val_score"
      ],
      "metadata": {
        "colab": {
          "base_uri": "https://localhost:8080/"
        },
        "id": "kvUqEVkp2tYW",
        "outputId": "1f336036-6022-4fe3-e277-9de54383a201"
      },
      "execution_count": null,
      "outputs": [
        {
          "output_type": "execute_result",
          "data": {
            "text/plain": [
              "0.7717899367610668"
            ]
          },
          "metadata": {},
          "execution_count": 93
        }
      ]
    },
    {
      "cell_type": "code",
      "source": [
        "######################################### the CV Score is 77 % clf_cross_val_score"
      ],
      "metadata": {
        "colab": {
          "base_uri": "https://localhost:8080/"
        },
        "id": "RLMvgNr7phna",
        "outputId": "c8ed7d22-fbd7-4679-dd5a-fcf2e007907e"
      },
      "execution_count": null,
      "outputs": [
        {
          "output_type": "stream",
          "name": "stdout",
          "text": [
            "Cross Validation accuracy scores: [0.98556701 0.99175258 0.98694158 0.99312715 0.98694158 0.99106529\n",
            " 0.98281787 0.99175258 0.98899587 0.99037139]\n",
            "Cross Validation accuracy: 0.989 +/- 0.003\n"
          ]
        }
      ]
    },
    {
      "cell_type": "code",
      "source": [
        "from sklearn.metrics import roc_curve\n",
        "\n",
        "# Fit the classifier\n",
        "clf.fit(X_train, y_train)\n",
        "\n",
        "# Make predictions with probabilities\n",
        "y_probs = clf.predict_proba(X_test)\n",
        "\n",
        "y_probs[:10], len(y_probs)"
      ],
      "metadata": {
        "colab": {
          "base_uri": "https://localhost:8080/"
        },
        "id": "mK70xSTBt3il",
        "outputId": "632d5565-51a6-430d-9adb-161a16fdd3b3"
      },
      "execution_count": null,
      "outputs": [
        {
          "output_type": "execute_result",
          "data": {
            "text/plain": [
              "(array([[0.   , 1.   ],\n",
              "        [0.   , 1.   ],\n",
              "        [1.   , 0.   ],\n",
              "        [0.   , 1.   ],\n",
              "        [0.019, 0.981],\n",
              "        [0.073, 0.927],\n",
              "        [0.003, 0.997],\n",
              "        [1.   , 0.   ],\n",
              "        [1.   , 0.   ],\n",
              "        [0.   , 1.   ]]), 3637)"
            ]
          },
          "metadata": {},
          "execution_count": 44
        }
      ]
    },
    {
      "cell_type": "code",
      "source": [
        "y_probs_positive = y_probs[:, 1]\n",
        "y_probs_positive[:10]"
      ],
      "metadata": {
        "colab": {
          "base_uri": "https://localhost:8080/"
        },
        "id": "05fSkc-js9lO",
        "outputId": "754885d2-f26e-4601-9511-ab5fadd11322"
      },
      "execution_count": null,
      "outputs": [
        {
          "output_type": "execute_result",
          "data": {
            "text/plain": [
              "array([1.   , 1.   , 0.   , 1.   , 0.981, 0.927, 0.997, 0.   , 0.   ,\n",
              "       1.   ])"
            ]
          },
          "metadata": {},
          "execution_count": 45
        }
      ]
    },
    {
      "cell_type": "code",
      "source": [
        "# Caculate fpr, tpr and thresholds\n",
        "fpr, tpr, thresholds = roc_curve(y_test, y_probs_positive)\n",
        "\n",
        "# Check the false positive rates\n",
        "fpr"
      ],
      "metadata": {
        "colab": {
          "base_uri": "https://localhost:8080/"
        },
        "id": "Zpv1wT8Os9rt",
        "outputId": "a56b815b-914f-4a98-ad8f-b4a31f7fe77b"
      },
      "execution_count": null,
      "outputs": [
        {
          "output_type": "execute_result",
          "data": {
            "text/plain": [
              "array([0.00000000e+00, 6.13873542e-04, 1.22774708e-03, 1.22774708e-03,\n",
              "       1.22774708e-03, 1.22774708e-03, 1.22774708e-03, 1.22774708e-03,\n",
              "       1.22774708e-03, 1.22774708e-03, 1.22774708e-03, 1.22774708e-03,\n",
              "       1.22774708e-03, 1.22774708e-03, 1.22774708e-03, 1.84162063e-03,\n",
              "       1.84162063e-03, 1.84162063e-03, 1.84162063e-03, 1.84162063e-03,\n",
              "       1.84162063e-03, 1.84162063e-03, 1.84162063e-03, 1.84162063e-03,\n",
              "       1.84162063e-03, 1.84162063e-03, 1.84162063e-03, 1.84162063e-03,\n",
              "       1.84162063e-03, 1.84162063e-03, 1.84162063e-03, 2.45549417e-03,\n",
              "       2.45549417e-03, 2.45549417e-03, 2.45549417e-03, 2.45549417e-03,\n",
              "       2.45549417e-03, 2.45549417e-03, 2.45549417e-03, 2.45549417e-03,\n",
              "       2.45549417e-03, 2.45549417e-03, 2.45549417e-03, 2.45549417e-03,\n",
              "       3.06936771e-03, 3.06936771e-03, 3.06936771e-03, 3.06936771e-03,\n",
              "       3.06936771e-03, 3.06936771e-03, 3.06936771e-03, 3.06936771e-03,\n",
              "       3.06936771e-03, 3.06936771e-03, 3.06936771e-03, 3.06936771e-03,\n",
              "       3.06936771e-03, 3.68324125e-03, 3.68324125e-03, 3.68324125e-03,\n",
              "       3.68324125e-03, 3.68324125e-03, 4.29711479e-03, 4.29711479e-03,\n",
              "       4.29711479e-03, 4.91098834e-03, 4.91098834e-03, 4.91098834e-03,\n",
              "       4.91098834e-03, 5.52486188e-03, 5.52486188e-03, 6.13873542e-03,\n",
              "       6.13873542e-03, 6.13873542e-03, 6.13873542e-03, 6.75260896e-03,\n",
              "       6.75260896e-03, 7.98035605e-03, 7.98035605e-03, 7.98035605e-03,\n",
              "       7.98035605e-03, 8.59422959e-03, 8.59422959e-03, 9.20810313e-03,\n",
              "       9.20810313e-03, 9.82197667e-03, 9.82197667e-03, 1.04358502e-02,\n",
              "       1.04358502e-02, 1.28913444e-02, 1.28913444e-02, 1.53468386e-02,\n",
              "       1.59607121e-02, 1.78023327e-02, 1.78023327e-02, 1.96439533e-02,\n",
              "       1.96439533e-02, 2.14855740e-02, 2.14855740e-02, 2.20994475e-02,\n",
              "       2.33271946e-02, 2.63965623e-02, 2.76243094e-02, 3.19214242e-02,\n",
              "       3.31491713e-02, 3.37630448e-02, 3.49907919e-02, 3.56046654e-02,\n",
              "       3.68324125e-02, 3.68324125e-02, 3.74462861e-02, 3.86740331e-02,\n",
              "       4.11295273e-02, 4.23572744e-02, 4.35850215e-02, 4.54266421e-02,\n",
              "       4.66543892e-02, 4.78821363e-02, 4.97237569e-02, 5.21792511e-02,\n",
              "       5.27931246e-02, 5.40208717e-02, 5.70902394e-02, 5.83179865e-02,\n",
              "       5.89318600e-02, 6.13873542e-02, 6.38428484e-02, 6.44567219e-02,\n",
              "       6.56844690e-02, 6.69122161e-02, 7.05954573e-02, 8.28729282e-02,\n",
              "       8.77839165e-02, 9.33087784e-02, 1.02516882e-01, 1.12952732e-01,\n",
              "       1.41190915e-01, 1.00000000e+00])"
            ]
          },
          "metadata": {},
          "execution_count": 46
        }
      ]
    },
    {
      "cell_type": "code",
      "source": [
        "# Create a function for plotting ROC curves\n",
        "import matplotlib.pyplot as plt\n",
        "\n",
        "def plot_roc_curve(fpr, tpr):\n",
        "    \"\"\"\n",
        "    Plots a ROC curve given the false positive rate (fpr)\n",
        "    and true positive rate (tpr) of a model.\n",
        "    \"\"\"\n",
        "    # Plot roc curve\n",
        "    plt.plot(fpr, tpr, color=\"orange\", label=\"ROC\")\n",
        "    # Plot line with no predictive power (baseline)\n",
        "    #plt.plot([0, 1], [0, 1], color=\"darkblue\", linestyle=\"--\", label=\"Guessing\")\n",
        "    \n",
        "    # Customize the plot\n",
        "    plt.xlabel(\"False positive rate (fpr)\")\n",
        "    plt.ylabel(\"True positive rate (tpr)\")\n",
        "    plt.title(\"Receiver Operating Characteristic (ROC) Curve\")\n",
        "    plt.legend()\n",
        "    plt.show()\n",
        "\n",
        "plot_roc_curve(fpr, tpr)"
      ],
      "metadata": {
        "colab": {
          "base_uri": "https://localhost:8080/",
          "height": 295
        },
        "id": "jhe4V6mcs9uI",
        "outputId": "ba3a1cc9-f4f8-4302-da01-0cbed3b12a66"
      },
      "execution_count": null,
      "outputs": [
        {
          "output_type": "display_data",
          "data": {
            "text/plain": [
              "<Figure size 432x288 with 1 Axes>"
            ],
            "image/png": "[encoded data removed]"
          },
          "metadata": {
            "needs_background": "light"
          }
        }
      ]
    },
    {
      "cell_type": "code",
      "source": [
        "# END OF RM"
      ],
      "metadata": {
        "id": "36F8rC4u75cJ"
      },
      "execution_count": null,
      "outputs": []
    },
    {
      "cell_type": "code",
      "source": [],
      "metadata": {
        "id": "_mRjyOTu75fL"
      },
      "execution_count": null,
      "outputs": []
    },
    {
      "cell_type": "code",
      "source": [],
      "metadata": {
        "id": "Pr60t8HM75hn"
      },
      "execution_count": null,
      "outputs": []
    },
    {
      "cell_type": "code",
      "source": [
        "y = df[\"Class\"].values \n",
        "x_df = df.drop ([\"id\",\"Class\"],axis = 1)\n",
        "x = (x_df-np.min(x_df)) / (np.max(x_df)-np.min(x_df))\n",
        "from sklearn.model_selection import train_test_split\n",
        "X_train , X_test , y_train , y_test = train_test_split(x,y,test_size=0.2,random_state =1)"
      ],
      "metadata": {
        "id": "z39x9UXs75j6"
      },
      "execution_count": null,
      "outputs": []
    },
    {
      "cell_type": "code",
      "source": [
        "# Import the SVC which makes support vector classification by using SVM and create the SVM classifier.\n",
        "from sklearn.svm import SVC \n",
        "svm = SVC(random_state = 1)"
      ],
      "metadata": {
        "id": "Rseu-Swfs9wU"
      },
      "execution_count": null,
      "outputs": []
    },
    {
      "cell_type": "code",
      "source": [
        "#Train the model using the training sets.\n",
        "svm.fit(X_train , y_train)"
      ],
      "metadata": {
        "colab": {
          "base_uri": "https://localhost:8080/"
        },
        "id": "IX2yj-P5675M",
        "outputId": "9b1cc2fb-21db-4e4f-91e5-61e4118da748"
      },
      "execution_count": null,
      "outputs": [
        {
          "output_type": "execute_result",
          "data": {
            "text/plain": [
              "SVC(random_state=1)"
            ]
          },
          "metadata": {},
          "execution_count": 65
        }
      ]
    },
    {
      "cell_type": "code",
      "source": [
        "#Calculate the accuracy of the model on the training data and in testing data.\n",
        "print(\"train accuracy :\" , svm.score(X_train , y_train))\n",
        "print(\"test accuracy : \" , svm.score(X_test , y_test))"
      ],
      "metadata": {
        "colab": {
          "base_uri": "https://localhost:8080/"
        },
        "id": "LrqxnHVf677c",
        "outputId": "0c383b93-e473-40d9-cb7c-dcd573d284e9"
      },
      "execution_count": null,
      "outputs": [
        {
          "output_type": "stream",
          "name": "stdout",
          "text": [
            "train accuracy : 0.9898267803134452\n",
            "test accuracy :  0.9903766840802859\n"
          ]
        }
      ]
    },
    {
      "cell_type": "code",
      "source": [
        "# # improve the accuracy of prediction\n",
        "# from sklearn.feature_selection import SelectKBest\n",
        "# from sklearn.feature_selection import f_classif\n",
        "# accuracy_list_train = []\n",
        "# number_of_features = np.arange(1,12,1)\n",
        "# for each in number_of_features : \n",
        "#     X_new = SelectKBest(f_classif ).fit_transform(X_train , y_train)\n",
        "#     svm.fit(X_new , y_train)\n",
        "#     accuracy_list_train.append(svm.score(X_new , y_train))\n",
        "    \n",
        "#     plt.plot(accuracy_list_train , color = \"green\" , label = \"train\")\n",
        "#     plt.xlabel(\"number of features\")\n",
        "#     plt.ylabel(\"train accuracy\")\n",
        "#     plt.legend()\n",
        "#     plt.show()"
      ],
      "metadata": {
        "id": "K9x1a_pd67_q"
      },
      "execution_count": null,
      "outputs": []
    },
    {
      "cell_type": "code",
      "source": [
        "# we can see that 5 is the best number of features\n",
        "d = { 'train_score' : accuracy_list_train}\n",
        "dfb = pd.DataFrame(data=d)\n",
        "print(\"max accuracy :\" , dfb[\"train_score\"].max())\n",
        "print(\"max accuracy id:\" , dfb[\"train_score\"].idxmax())"
      ],
      "metadata": {
        "colab": {
          "base_uri": "https://localhost:8080/"
        },
        "id": "K5HiGkZ168CL",
        "outputId": "ffbc7538-3036-4eea-860a-62eed3c6db5a"
      },
      "execution_count": null,
      "outputs": [
        {
          "output_type": "stream",
          "name": "stdout",
          "text": [
            "max accuracy : 0.9898267803134452\n",
            "max accuracy id: 0\n"
          ]
        }
      ]
    },
    {
      "cell_type": "code",
      "source": [
        "print(\"max accuracy values : \\n\" , dfb.iloc[4])"
      ],
      "metadata": {
        "colab": {
          "base_uri": "https://localhost:8080/"
        },
        "id": "EpmZdRB868E6",
        "outputId": "fc99fd34-0cf9-4475-8f8e-14f474c31aba"
      },
      "execution_count": null,
      "outputs": [
        {
          "output_type": "stream",
          "name": "stdout",
          "text": [
            "max accuracy values : \n",
            " train_score    0.989827\n",
            "Name: 4, dtype: float64\n"
          ]
        }
      ]
    },
    {
      "cell_type": "code",
      "source": [
        "# Arrange the train and test dataset\n",
        "\n",
        "selector = SelectKBest(f_classif , k=5)\n",
        "X_new = selector.fit_transform(X_train , y_train)\n",
        "X_new_test = selector.fit_transform(X_test , y_test)\n",
        "names_train = X_train.columns.values[selector.get_support()]\n",
        "names_test = X_test.columns.values[selector.get_support()]\n",
        "print(\"x train features : \" , names_train)\n",
        "print(\"x test features : \" , names_test)"
      ],
      "metadata": {
        "colab": {
          "base_uri": "https://localhost:8080/"
        },
        "id": "Pyxz1hXG68HT",
        "outputId": "b69baedc-ddf2-4e1e-bc2a-09fce0875b0c"
      },
      "execution_count": null,
      "outputs": [
        {
          "output_type": "stream",
          "name": "stdout",
          "text": [
            "x train features :  ['Area' 'MinorAxisLength' 'ConvexArea' 'Roundness' 'AspectRation']\n",
            "x test features :  ['Area' 'MinorAxisLength' 'ConvexArea' 'Roundness' 'AspectRation']\n"
          ]
        }
      ]
    },
    {
      "cell_type": "code",
      "source": [
        "# Re-train and re-calculate the model accuracy using the new arrangement of features\n",
        "from sklearn.svm import SVC \n",
        "svm = SVC (random_state = 1 )\n",
        "svm.fit(X_new , y_train)\n",
        "\n",
        "print(\"train accuracy : \" , svm.score(X_new , y_train))\n",
        "print (\"test accuracy : \" , svm.score(X_new_test , y_test ))"
      ],
      "metadata": {
        "colab": {
          "base_uri": "https://localhost:8080/"
        },
        "id": "6FIVsZOm68Jq",
        "outputId": "35cbd093-f3e8-46b5-d484-dd892a0252a5"
      },
      "execution_count": null,
      "outputs": [
        {
          "output_type": "stream",
          "name": "stdout",
          "text": [
            "train accuracy :  0.989689304371735\n",
            "test accuracy :  0.9898267803134452\n"
          ]
        }
      ]
    },
    {
      "cell_type": "code",
      "source": [
        "from sklearn.model_selection import cross_val_score\n",
        "cross_val_score(svm, X, y, cv=5)\n",
        "\n",
        "\n"
      ],
      "metadata": {
        "colab": {
          "base_uri": "https://localhost:8080/"
        },
        "id": "m3-VInYN8XRB",
        "outputId": "a414d050-c472-4ba5-d981-405691febe9e"
      },
      "execution_count": null,
      "outputs": [
        {
          "output_type": "execute_result",
          "data": {
            "text/plain": [
              "array([0.87929612, 0.94088535, 0.94968381, 0.95023371, 0.9056915 ])"
            ]
          },
          "metadata": {},
          "execution_count": 75
        }
      ]
    },
    {
      "cell_type": "code",
      "source": [
        "cross_val_score(svm, X, y, cv=10)\n"
      ],
      "metadata": {
        "colab": {
          "base_uri": "https://localhost:8080/"
        },
        "id": "Vu_0lzW98XWP",
        "outputId": "e9ee024a-da10-47e7-8ee3-b8820dffc64c"
      },
      "execution_count": null,
      "outputs": [
        {
          "output_type": "execute_result",
          "data": {
            "text/plain": [
              "array([0.83562397, 0.92413414, 0.93952721, 0.94282573, 0.95876855,\n",
              "       0.94224422, 0.94444444, 0.95544554, 0.93784378, 0.87623762])"
            ]
          },
          "metadata": {},
          "execution_count": 78
        }
      ]
    },
    {
      "cell_type": "code",
      "source": [
        "np.random.seed(42)\n",
        "\n",
        "# Single training and test split score\n",
        "\n",
        "# Take the mean of 5-fold cross-validation score\n",
        "svm_cross_val_score = np.mean(cross_val_score(svm, X, y, cv=10))\n",
        "\n",
        "# Compare the two\n",
        "svm_cross_val_score"
      ],
      "metadata": {
        "colab": {
          "base_uri": "https://localhost:8080/"
        },
        "id": "uK8rilhv8XY8",
        "outputId": "0786baf2-e1fe-4fc0-d03a-a6e7782d417c"
      },
      "execution_count": null,
      "outputs": [
        {
          "output_type": "execute_result",
          "data": {
            "text/plain": [
              "0.9257095225740277"
            ]
          },
          "metadata": {},
          "execution_count": 88
        }
      ]
    },
    {
      "cell_type": "code",
      "source": [
        "############### before the CV the test accuracy was 0.9903766840802859\n",
        "\n",
        "\n",
        "\n",
        "############### svm_cross_val_score accuracy is 0.9257095225740277\n",
        "\n",
        "###############Finally  SVM            92%"
      ],
      "metadata": {
        "id": "EDjdwrq7_wO9"
      },
      "execution_count": null,
      "outputs": []
    },
    {
      "cell_type": "code",
      "source": [
        "from sklearn.linear_model import LogisticRegression\n",
        "lgrgmodel=LogisticRegression()"
      ],
      "metadata": {
        "id": "D8HrdKORBCWr"
      },
      "execution_count": null,
      "outputs": []
    },
    {
      "cell_type": "code",
      "source": [
        "lgrgmodel.fit(X_train,y_train)"
      ],
      "metadata": {
        "colab": {
          "base_uri": "https://localhost:8080/"
        },
        "id": "iQ2U6_AYB6fW",
        "outputId": "3e0de411-8392-447e-efb3-fd5f85780a2e"
      },
      "execution_count": null,
      "outputs": [
        {
          "output_type": "execute_result",
          "data": {
            "text/plain": [
              "LogisticRegression()"
            ]
          },
          "metadata": {},
          "execution_count": 95
        }
      ]
    },
    {
      "cell_type": "code",
      "source": [
        "Lgg_predict1=lgrgmodel.predict(X_test)\n",
        "Lgg_predict1"
      ],
      "metadata": {
        "colab": {
          "base_uri": "https://localhost:8080/"
        },
        "id": "WC8nKHxkB4lU",
        "outputId": "3c5a87b8-5476-408d-aa32-bd3b52bb917e"
      },
      "execution_count": null,
      "outputs": [
        {
          "output_type": "execute_result",
          "data": {
            "text/plain": [
              "array([0, 1, 1, ..., 0, 1, 1])"
            ]
          },
          "metadata": {},
          "execution_count": 96
        }
      ]
    },
    {
      "cell_type": "code",
      "source": [
        "print(\"train accuracy :\" , lgrgmodel.score(X_train , y_train))\n",
        "print(\"test accuracy : \" , lgrgmodel.score(X_test , y_test))"
      ],
      "metadata": {
        "colab": {
          "base_uri": "https://localhost:8080/"
        },
        "id": "FPAMwUY9AcLB",
        "outputId": "47cd7b79-3cef-4aba-b0a3-be62946e826d"
      },
      "execution_count": null,
      "outputs": [
        {
          "output_type": "stream",
          "name": "stdout",
          "text": [
            "train accuracy : 0.9872834753918064\n",
            "test accuracy :  0.9859774539455596\n"
          ]
        }
      ]
    },
    {
      "cell_type": "code",
      "source": [
        "#################################################################"
      ],
      "metadata": {
        "id": "ZrgBydgdAcNS"
      },
      "execution_count": null,
      "outputs": []
    },
    {
      "cell_type": "code",
      "source": [
        "#cross-validation score\n"
      ],
      "metadata": {
        "id": "hKy3N9jkAcRp"
      },
      "execution_count": null,
      "outputs": []
    },
    {
      "cell_type": "code",
      "source": [
        "cross_val_score(lgrgmodel, X, y, cv=5)\n"
      ],
      "metadata": {
        "colab": {
          "base_uri": "https://localhost:8080/"
        },
        "id": "FxuKhWtmFceY",
        "outputId": "766559ba-7678-4adf-8d91-353288687cfc"
      },
      "execution_count": null,
      "outputs": [
        {
          "output_type": "stream",
          "name": "stderr",
          "text": [
            "/usr/local/lib/python3.7/dist-packages/sklearn/linear_model/_logistic.py:818: ConvergenceWarning: lbfgs failed to converge (status=1):\n",
            "STOP: TOTAL NO. of ITERATIONS REACHED LIMIT.\n",
            "\n",
            "Increase the number of iterations (max_iter) or scale the data as shown in:\n",
            "    https://scikit-learn.org/stable/modules/preprocessing.html\n",
            "Please also refer to the documentation for alternative solver options:\n",
            "    https://scikit-learn.org/stable/modules/linear_model.html#logistic-regression\n",
            "  extra_warning_msg=_LOGISTIC_SOLVER_CONVERGENCE_MSG,\n",
            "/usr/local/lib/python3.7/dist-packages/sklearn/linear_model/_logistic.py:818: ConvergenceWarning: lbfgs failed to converge (status=1):\n",
            "STOP: TOTAL NO. of ITERATIONS REACHED LIMIT.\n",
            "\n",
            "Increase the number of iterations (max_iter) or scale the data as shown in:\n",
            "    https://scikit-learn.org/stable/modules/preprocessing.html\n",
            "Please also refer to the documentation for alternative solver options:\n",
            "    https://scikit-learn.org/stable/modules/linear_model.html#logistic-regression\n",
            "  extra_warning_msg=_LOGISTIC_SOLVER_CONVERGENCE_MSG,\n",
            "/usr/local/lib/python3.7/dist-packages/sklearn/linear_model/_logistic.py:818: ConvergenceWarning: lbfgs failed to converge (status=1):\n",
            "STOP: TOTAL NO. of ITERATIONS REACHED LIMIT.\n",
            "\n",
            "Increase the number of iterations (max_iter) or scale the data as shown in:\n",
            "    https://scikit-learn.org/stable/modules/preprocessing.html\n",
            "Please also refer to the documentation for alternative solver options:\n",
            "    https://scikit-learn.org/stable/modules/linear_model.html#logistic-regression\n",
            "  extra_warning_msg=_LOGISTIC_SOLVER_CONVERGENCE_MSG,\n"
          ]
        },
        {
          "output_type": "execute_result",
          "data": {
            "text/plain": [
              "array([0.67968106, 0.9994501 , 0.99890019, 0.99642563, 0.94940885])"
            ]
          },
          "metadata": {},
          "execution_count": 100
        }
      ]
    },
    {
      "cell_type": "code",
      "source": [
        "cross_val_score(lgrgmodel, X, y, cv=10)\n"
      ],
      "metadata": {
        "colab": {
          "base_uri": "https://localhost:8080/"
        },
        "id": "NaBmG8uNFhQF",
        "outputId": "64317f00-1c75-48ee-dbf9-74cc34d71549"
      },
      "execution_count": null,
      "outputs": [
        {
          "output_type": "stream",
          "name": "stderr",
          "text": [
            "/usr/local/lib/python3.7/dist-packages/sklearn/linear_model/_logistic.py:818: ConvergenceWarning: lbfgs failed to converge (status=1):\n",
            "STOP: TOTAL NO. of ITERATIONS REACHED LIMIT.\n",
            "\n",
            "Increase the number of iterations (max_iter) or scale the data as shown in:\n",
            "    https://scikit-learn.org/stable/modules/preprocessing.html\n",
            "Please also refer to the documentation for alternative solver options:\n",
            "    https://scikit-learn.org/stable/modules/linear_model.html#logistic-regression\n",
            "  extra_warning_msg=_LOGISTIC_SOLVER_CONVERGENCE_MSG,\n",
            "/usr/local/lib/python3.7/dist-packages/sklearn/linear_model/_logistic.py:818: ConvergenceWarning: lbfgs failed to converge (status=1):\n",
            "STOP: TOTAL NO. of ITERATIONS REACHED LIMIT.\n",
            "\n",
            "Increase the number of iterations (max_iter) or scale the data as shown in:\n",
            "    https://scikit-learn.org/stable/modules/preprocessing.html\n",
            "Please also refer to the documentation for alternative solver options:\n",
            "    https://scikit-learn.org/stable/modules/linear_model.html#logistic-regression\n",
            "  extra_warning_msg=_LOGISTIC_SOLVER_CONVERGENCE_MSG,\n",
            "/usr/local/lib/python3.7/dist-packages/sklearn/linear_model/_logistic.py:818: ConvergenceWarning: lbfgs failed to converge (status=1):\n",
            "STOP: TOTAL NO. of ITERATIONS REACHED LIMIT.\n",
            "\n",
            "Increase the number of iterations (max_iter) or scale the data as shown in:\n",
            "    https://scikit-learn.org/stable/modules/preprocessing.html\n",
            "Please also refer to the documentation for alternative solver options:\n",
            "    https://scikit-learn.org/stable/modules/linear_model.html#logistic-regression\n",
            "  extra_warning_msg=_LOGISTIC_SOLVER_CONVERGENCE_MSG,\n",
            "/usr/local/lib/python3.7/dist-packages/sklearn/linear_model/_logistic.py:818: ConvergenceWarning: lbfgs failed to converge (status=1):\n",
            "STOP: TOTAL NO. of ITERATIONS REACHED LIMIT.\n",
            "\n",
            "Increase the number of iterations (max_iter) or scale the data as shown in:\n",
            "    https://scikit-learn.org/stable/modules/preprocessing.html\n",
            "Please also refer to the documentation for alternative solver options:\n",
            "    https://scikit-learn.org/stable/modules/linear_model.html#logistic-regression\n",
            "  extra_warning_msg=_LOGISTIC_SOLVER_CONVERGENCE_MSG,\n",
            "/usr/local/lib/python3.7/dist-packages/sklearn/linear_model/_logistic.py:818: ConvergenceWarning: lbfgs failed to converge (status=1):\n",
            "STOP: TOTAL NO. of ITERATIONS REACHED LIMIT.\n",
            "\n",
            "Increase the number of iterations (max_iter) or scale the data as shown in:\n",
            "    https://scikit-learn.org/stable/modules/preprocessing.html\n",
            "Please also refer to the documentation for alternative solver options:\n",
            "    https://scikit-learn.org/stable/modules/linear_model.html#logistic-regression\n",
            "  extra_warning_msg=_LOGISTIC_SOLVER_CONVERGENCE_MSG,\n",
            "/usr/local/lib/python3.7/dist-packages/sklearn/linear_model/_logistic.py:818: ConvergenceWarning: lbfgs failed to converge (status=1):\n",
            "STOP: TOTAL NO. of ITERATIONS REACHED LIMIT.\n",
            "\n",
            "Increase the number of iterations (max_iter) or scale the data as shown in:\n",
            "    https://scikit-learn.org/stable/modules/preprocessing.html\n",
            "Please also refer to the documentation for alternative solver options:\n",
            "    https://scikit-learn.org/stable/modules/linear_model.html#logistic-regression\n",
            "  extra_warning_msg=_LOGISTIC_SOLVER_CONVERGENCE_MSG,\n",
            "/usr/local/lib/python3.7/dist-packages/sklearn/linear_model/_logistic.py:818: ConvergenceWarning: lbfgs failed to converge (status=1):\n",
            "STOP: TOTAL NO. of ITERATIONS REACHED LIMIT.\n",
            "\n",
            "Increase the number of iterations (max_iter) or scale the data as shown in:\n",
            "    https://scikit-learn.org/stable/modules/preprocessing.html\n",
            "Please also refer to the documentation for alternative solver options:\n",
            "    https://scikit-learn.org/stable/modules/linear_model.html#logistic-regression\n",
            "  extra_warning_msg=_LOGISTIC_SOLVER_CONVERGENCE_MSG,\n",
            "/usr/local/lib/python3.7/dist-packages/sklearn/linear_model/_logistic.py:818: ConvergenceWarning: lbfgs failed to converge (status=1):\n",
            "STOP: TOTAL NO. of ITERATIONS REACHED LIMIT.\n",
            "\n",
            "Increase the number of iterations (max_iter) or scale the data as shown in:\n",
            "    https://scikit-learn.org/stable/modules/preprocessing.html\n",
            "Please also refer to the documentation for alternative solver options:\n",
            "    https://scikit-learn.org/stable/modules/linear_model.html#logistic-regression\n",
            "  extra_warning_msg=_LOGISTIC_SOLVER_CONVERGENCE_MSG,\n"
          ]
        },
        {
          "output_type": "execute_result",
          "data": {
            "text/plain": [
              "array([0.65805388, 0.99450247, 1.        , 1.        , 0.99945025,\n",
              "       0.99944994, 0.99944994, 0.99724972, 0.99559956, 0.91309131])"
            ]
          },
          "metadata": {},
          "execution_count": 101
        }
      ]
    },
    {
      "cell_type": "code",
      "source": [
        "Lr_cv = np.mean(cross_val_score(lgrgmodel, X, y, cv=10))\n",
        "Lr_cv"
      ],
      "metadata": {
        "colab": {
          "base_uri": "https://localhost:8080/"
        },
        "id": "5OBk07DeFqGp",
        "outputId": "af6d31b9-24de-4d2a-c1ee-94919d5441d5"
      },
      "execution_count": null,
      "outputs": [
        {
          "output_type": "stream",
          "name": "stderr",
          "text": [
            "/usr/local/lib/python3.7/dist-packages/sklearn/linear_model/_logistic.py:818: ConvergenceWarning: lbfgs failed to converge (status=1):\n",
            "STOP: TOTAL NO. of ITERATIONS REACHED LIMIT.\n",
            "\n",
            "Increase the number of iterations (max_iter) or scale the data as shown in:\n",
            "    https://scikit-learn.org/stable/modules/preprocessing.html\n",
            "Please also refer to the documentation for alternative solver options:\n",
            "    https://scikit-learn.org/stable/modules/linear_model.html#logistic-regression\n",
            "  extra_warning_msg=_LOGISTIC_SOLVER_CONVERGENCE_MSG,\n",
            "/usr/local/lib/python3.7/dist-packages/sklearn/linear_model/_logistic.py:818: ConvergenceWarning: lbfgs failed to converge (status=1):\n",
            "STOP: TOTAL NO. of ITERATIONS REACHED LIMIT.\n",
            "\n",
            "Increase the number of iterations (max_iter) or scale the data as shown in:\n",
            "    https://scikit-learn.org/stable/modules/preprocessing.html\n",
            "Please also refer to the documentation for alternative solver options:\n",
            "    https://scikit-learn.org/stable/modules/linear_model.html#logistic-regression\n",
            "  extra_warning_msg=_LOGISTIC_SOLVER_CONVERGENCE_MSG,\n",
            "/usr/local/lib/python3.7/dist-packages/sklearn/linear_model/_logistic.py:818: ConvergenceWarning: lbfgs failed to converge (status=1):\n",
            "STOP: TOTAL NO. of ITERATIONS REACHED LIMIT.\n",
            "\n",
            "Increase the number of iterations (max_iter) or scale the data as shown in:\n",
            "    https://scikit-learn.org/stable/modules/preprocessing.html\n",
            "Please also refer to the documentation for alternative solver options:\n",
            "    https://scikit-learn.org/stable/modules/linear_model.html#logistic-regression\n",
            "  extra_warning_msg=_LOGISTIC_SOLVER_CONVERGENCE_MSG,\n",
            "/usr/local/lib/python3.7/dist-packages/sklearn/linear_model/_logistic.py:818: ConvergenceWarning: lbfgs failed to converge (status=1):\n",
            "STOP: TOTAL NO. of ITERATIONS REACHED LIMIT.\n",
            "\n",
            "Increase the number of iterations (max_iter) or scale the data as shown in:\n",
            "    https://scikit-learn.org/stable/modules/preprocessing.html\n",
            "Please also refer to the documentation for alternative solver options:\n",
            "    https://scikit-learn.org/stable/modules/linear_model.html#logistic-regression\n",
            "  extra_warning_msg=_LOGISTIC_SOLVER_CONVERGENCE_MSG,\n",
            "/usr/local/lib/python3.7/dist-packages/sklearn/linear_model/_logistic.py:818: ConvergenceWarning: lbfgs failed to converge (status=1):\n",
            "STOP: TOTAL NO. of ITERATIONS REACHED LIMIT.\n",
            "\n",
            "Increase the number of iterations (max_iter) or scale the data as shown in:\n",
            "    https://scikit-learn.org/stable/modules/preprocessing.html\n",
            "Please also refer to the documentation for alternative solver options:\n",
            "    https://scikit-learn.org/stable/modules/linear_model.html#logistic-regression\n",
            "  extra_warning_msg=_LOGISTIC_SOLVER_CONVERGENCE_MSG,\n",
            "/usr/local/lib/python3.7/dist-packages/sklearn/linear_model/_logistic.py:818: ConvergenceWarning: lbfgs failed to converge (status=1):\n",
            "STOP: TOTAL NO. of ITERATIONS REACHED LIMIT.\n",
            "\n",
            "Increase the number of iterations (max_iter) or scale the data as shown in:\n",
            "    https://scikit-learn.org/stable/modules/preprocessing.html\n",
            "Please also refer to the documentation for alternative solver options:\n",
            "    https://scikit-learn.org/stable/modules/linear_model.html#logistic-regression\n",
            "  extra_warning_msg=_LOGISTIC_SOLVER_CONVERGENCE_MSG,\n",
            "/usr/local/lib/python3.7/dist-packages/sklearn/linear_model/_logistic.py:818: ConvergenceWarning: lbfgs failed to converge (status=1):\n",
            "STOP: TOTAL NO. of ITERATIONS REACHED LIMIT.\n",
            "\n",
            "Increase the number of iterations (max_iter) or scale the data as shown in:\n",
            "    https://scikit-learn.org/stable/modules/preprocessing.html\n",
            "Please also refer to the documentation for alternative solver options:\n",
            "    https://scikit-learn.org/stable/modules/linear_model.html#logistic-regression\n",
            "  extra_warning_msg=_LOGISTIC_SOLVER_CONVERGENCE_MSG,\n",
            "/usr/local/lib/python3.7/dist-packages/sklearn/linear_model/_logistic.py:818: ConvergenceWarning: lbfgs failed to converge (status=1):\n",
            "STOP: TOTAL NO. of ITERATIONS REACHED LIMIT.\n",
            "\n",
            "Increase the number of iterations (max_iter) or scale the data as shown in:\n",
            "    https://scikit-learn.org/stable/modules/preprocessing.html\n",
            "Please also refer to the documentation for alternative solver options:\n",
            "    https://scikit-learn.org/stable/modules/linear_model.html#logistic-regression\n",
            "  extra_warning_msg=_LOGISTIC_SOLVER_CONVERGENCE_MSG,\n"
          ]
        },
        {
          "output_type": "execute_result",
          "data": {
            "text/plain": [
              "0.955684708107974"
            ]
          },
          "metadata": {},
          "execution_count": 102
        }
      ]
    },
    {
      "cell_type": "code",
      "source": [
        "# CV for LR IS 95% "
      ],
      "metadata": {
        "id": "atUpZGp4F_KL"
      },
      "execution_count": null,
      "outputs": []
    },
    {
      "cell_type": "code",
      "source": [],
      "metadata": {
        "id": "56Kt6M85GXW6"
      },
      "execution_count": null,
      "outputs": []
    },
    {
      "cell_type": "code",
      "execution_count": null,
      "metadata": {
        "id": "a1fffacc",
        "outputId": "6ec3ad37-85ad-4975-9ac0-d8dccf0798a5",
        "colab": {
          "base_uri": "https://localhost:8080/"
        }
      },
      "outputs": [
        {
          "output_type": "stream",
          "name": "stdout",
          "text": [
            "Looking in indexes: https://pypi.org/simple, https://us-python.pkg.dev/colab-wheels/public/simple/\n",
            "Requirement already satisfied: tensorflow in /usr/local/lib/python3.7/dist-packages (2.9.2)\n",
            "Requirement already satisfied: absl-py>=1.0.0 in /usr/local/lib/python3.7/dist-packages (from tensorflow) (1.3.0)\n",
            "Requirement already satisfied: numpy>=1.20 in /usr/local/lib/python3.7/dist-packages (from tensorflow) (1.21.6)\n",
            "Requirement already satisfied: wrapt>=1.11.0 in /usr/local/lib/python3.7/dist-packages (from tensorflow) (1.14.1)\n",
            "Requirement already satisfied: h5py>=2.9.0 in /usr/local/lib/python3.7/dist-packages (from tensorflow) (3.1.0)\n",
            "Requirement already satisfied: flatbuffers<2,>=1.12 in /usr/local/lib/python3.7/dist-packages (from tensorflow) (1.12)\n",
            "Requirement already satisfied: google-pasta>=0.1.1 in /usr/local/lib/python3.7/dist-packages (from tensorflow) (0.2.0)\n",
            "Requirement already satisfied: keras<2.10.0,>=2.9.0rc0 in /usr/local/lib/python3.7/dist-packages (from tensorflow) (2.9.0)\n",
            "Requirement already satisfied: protobuf<3.20,>=3.9.2 in /usr/local/lib/python3.7/dist-packages (from tensorflow) (3.17.3)\n",
            "Requirement already satisfied: packaging in /usr/local/lib/python3.7/dist-packages (from tensorflow) (21.3)\n",
            "Requirement already satisfied: termcolor>=1.1.0 in /usr/local/lib/python3.7/dist-packages (from tensorflow) (2.0.1)\n",
            "Requirement already satisfied: setuptools in /usr/local/lib/python3.7/dist-packages (from tensorflow) (57.4.0)\n",
            "Requirement already satisfied: typing-extensions>=3.6.6 in /usr/local/lib/python3.7/dist-packages (from tensorflow) (4.1.1)\n",
            "Requirement already satisfied: tensorflow-io-gcs-filesystem>=0.23.1 in /usr/local/lib/python3.7/dist-packages (from tensorflow) (0.27.0)\n",
            "Requirement already satisfied: keras-preprocessing>=1.1.1 in /usr/local/lib/python3.7/dist-packages (from tensorflow) (1.1.2)\n",
            "Requirement already satisfied: tensorflow-estimator<2.10.0,>=2.9.0rc0 in /usr/local/lib/python3.7/dist-packages (from tensorflow) (2.9.0)\n",
            "Requirement already satisfied: gast<=0.4.0,>=0.2.1 in /usr/local/lib/python3.7/dist-packages (from tensorflow) (0.4.0)\n",
            "Requirement already satisfied: opt-einsum>=2.3.2 in /usr/local/lib/python3.7/dist-packages (from tensorflow) (3.3.0)\n",
            "Requirement already satisfied: tensorboard<2.10,>=2.9 in /usr/local/lib/python3.7/dist-packages (from tensorflow) (2.9.1)\n",
            "Requirement already satisfied: grpcio<2.0,>=1.24.3 in /usr/local/lib/python3.7/dist-packages (from tensorflow) (1.50.0)\n",
            "Requirement already satisfied: libclang>=13.0.0 in /usr/local/lib/python3.7/dist-packages (from tensorflow) (14.0.6)\n",
            "Requirement already satisfied: astunparse>=1.6.0 in /usr/local/lib/python3.7/dist-packages (from tensorflow) (1.6.3)\n",
            "Requirement already satisfied: six>=1.12.0 in /usr/local/lib/python3.7/dist-packages (from tensorflow) (1.15.0)\n",
            "Requirement already satisfied: wheel<1.0,>=0.23.0 in /usr/local/lib/python3.7/dist-packages (from astunparse>=1.6.0->tensorflow) (0.37.1)\n",
            "Requirement already satisfied: cached-property in /usr/local/lib/python3.7/dist-packages (from h5py>=2.9.0->tensorflow) (1.5.2)\n",
            "Requirement already satisfied: markdown>=2.6.8 in /usr/local/lib/python3.7/dist-packages (from tensorboard<2.10,>=2.9->tensorflow) (3.4.1)\n",
            "Requirement already satisfied: werkzeug>=1.0.1 in /usr/local/lib/python3.7/dist-packages (from tensorboard<2.10,>=2.9->tensorflow) (1.0.1)\n",
            "Requirement already satisfied: google-auth<3,>=1.6.3 in /usr/local/lib/python3.7/dist-packages (from tensorboard<2.10,>=2.9->tensorflow) (1.35.0)\n",
            "Requirement already satisfied: tensorboard-data-server<0.7.0,>=0.6.0 in /usr/local/lib/python3.7/dist-packages (from tensorboard<2.10,>=2.9->tensorflow) (0.6.1)\n",
            "Requirement already satisfied: tensorboard-plugin-wit>=1.6.0 in /usr/local/lib/python3.7/dist-packages (from tensorboard<2.10,>=2.9->tensorflow) (1.8.1)\n",
            "Requirement already satisfied: google-auth-oauthlib<0.5,>=0.4.1 in /usr/local/lib/python3.7/dist-packages (from tensorboard<2.10,>=2.9->tensorflow) (0.4.6)\n",
            "Requirement already satisfied: requests<3,>=2.21.0 in /usr/local/lib/python3.7/dist-packages (from tensorboard<2.10,>=2.9->tensorflow) (2.23.0)\n",
            "Requirement already satisfied: pyasn1-modules>=0.2.1 in /usr/local/lib/python3.7/dist-packages (from google-auth<3,>=1.6.3->tensorboard<2.10,>=2.9->tensorflow) (0.2.8)\n",
            "Requirement already satisfied: cachetools<5.0,>=2.0.0 in /usr/local/lib/python3.7/dist-packages (from google-auth<3,>=1.6.3->tensorboard<2.10,>=2.9->tensorflow) (4.2.4)\n",
            "Requirement already satisfied: rsa<5,>=3.1.4 in /usr/local/lib/python3.7/dist-packages (from google-auth<3,>=1.6.3->tensorboard<2.10,>=2.9->tensorflow) (4.9)\n",
            "Requirement already satisfied: requests-oauthlib>=0.7.0 in /usr/local/lib/python3.7/dist-packages (from google-auth-oauthlib<0.5,>=0.4.1->tensorboard<2.10,>=2.9->tensorflow) (1.3.1)\n",
            "Requirement already satisfied: importlib-metadata>=4.4 in /usr/local/lib/python3.7/dist-packages (from markdown>=2.6.8->tensorboard<2.10,>=2.9->tensorflow) (4.13.0)\n",
            "Requirement already satisfied: zipp>=0.5 in /usr/local/lib/python3.7/dist-packages (from importlib-metadata>=4.4->markdown>=2.6.8->tensorboard<2.10,>=2.9->tensorflow) (3.10.0)\n",
            "Requirement already satisfied: pyasn1<0.5.0,>=0.4.6 in /usr/local/lib/python3.7/dist-packages (from pyasn1-modules>=0.2.1->google-auth<3,>=1.6.3->tensorboard<2.10,>=2.9->tensorflow) (0.4.8)\n",
            "Requirement already satisfied: idna<3,>=2.5 in /usr/local/lib/python3.7/dist-packages (from requests<3,>=2.21.0->tensorboard<2.10,>=2.9->tensorflow) (2.10)\n",
            "Requirement already satisfied: certifi>=2017.4.17 in /usr/local/lib/python3.7/dist-packages (from requests<3,>=2.21.0->tensorboard<2.10,>=2.9->tensorflow) (2022.9.24)\n",
            "Requirement already satisfied: urllib3!=1.25.0,!=1.25.1,<1.26,>=1.21.1 in /usr/local/lib/python3.7/dist-packages (from requests<3,>=2.21.0->tensorboard<2.10,>=2.9->tensorflow) (1.24.3)\n",
            "Requirement already satisfied: chardet<4,>=3.0.2 in /usr/local/lib/python3.7/dist-packages (from requests<3,>=2.21.0->tensorboard<2.10,>=2.9->tensorflow) (3.0.4)\n",
            "Requirement already satisfied: oauthlib>=3.0.0 in /usr/local/lib/python3.7/dist-packages (from requests-oauthlib>=0.7.0->google-auth-oauthlib<0.5,>=0.4.1->tensorboard<2.10,>=2.9->tensorflow) (3.2.2)\n",
            "Requirement already satisfied: pyparsing!=3.0.5,>=2.0.2 in /usr/local/lib/python3.7/dist-packages (from packaging->tensorflow) (3.0.9)\n"
          ]
        }
      ],
      "source": [
        "pip install tensorflow"
      ]
    },
    {
      "cell_type": "code",
      "source": [],
      "metadata": {
        "id": "_Xwk9qGYGXaM"
      },
      "execution_count": null,
      "outputs": []
    },
    {
      "cell_type": "code",
      "source": [
        "y = df[\"Class\"].values \n",
        "x_df = df.drop ([\"id\",\"Class\"],axis = 1)\n",
        "x = (x_df-np.min(x_df)) / (np.max(x_df)-np.min(x_df))\n",
        "from sklearn.model_selection import train_test_split\n",
        "X_train , X_test , y_train , y_test = train_test_split(x,y,test_size=0.2,random_state =1)"
      ],
      "metadata": {
        "id": "jDsjBXdXGXt5"
      },
      "execution_count": null,
      "outputs": []
    },
    {
      "cell_type": "code",
      "source": [
        "import tensorflow as tf \n",
        "from tensorflow import keras"
      ],
      "metadata": {
        "id": "rE-LRBbsGXyj"
      },
      "execution_count": null,
      "outputs": []
    },
    {
      "cell_type": "code",
      "source": [
        "X_train.shape"
      ],
      "metadata": {
        "colab": {
          "base_uri": "https://localhost:8080/"
        },
        "id": "drM4X0mUiqTH",
        "outputId": "a3a28231-5918-4a06-cc15-d3967c9d305b"
      },
      "execution_count": null,
      "outputs": [
        {
          "output_type": "execute_result",
          "data": {
            "text/plain": [
              "(14548, 10)"
            ]
          },
          "metadata": {},
          "execution_count": 164
        }
      ]
    },
    {
      "cell_type": "code",
      "source": [
        "y_train.shape"
      ],
      "metadata": {
        "colab": {
          "base_uri": "https://localhost:8080/"
        },
        "id": "cGBmaZg9iqWJ",
        "outputId": "d4cd1227-7aee-4105-ccc4-cdca13d7fcbd"
      },
      "execution_count": null,
      "outputs": [
        {
          "output_type": "execute_result",
          "data": {
            "text/plain": [
              "(14548,)"
            ]
          },
          "metadata": {},
          "execution_count": 165
        }
      ]
    },
    {
      "cell_type": "code",
      "source": [
        "#Defining the model and adding the layers\n",
        "model = keras.Sequential([\n",
        "    keras.layers.Dense(10,input_shape=(10,), activation='sigmoid')\n",
        "])"
      ],
      "metadata": {
        "id": "Bo-IMUsaiqYj"
      },
      "execution_count": null,
      "outputs": []
    },
    {
      "cell_type": "code",
      "source": [
        "model.compile(optimizer='adam',\n",
        "              loss='sparse_categorical_crossentropy',\n",
        "              metrics=['accuracy'])"
      ],
      "metadata": {
        "id": "YFzm4lfIiqbd"
      },
      "execution_count": null,
      "outputs": []
    },
    {
      "cell_type": "code",
      "source": [
        "model.fit(X_train,y_train , epochs=100)"
      ],
      "metadata": {
        "colab": {
          "base_uri": "https://localhost:8080/"
        },
        "id": "NonglRIHi2E0",
        "outputId": "3291534b-b16a-481f-fe6f-900cdf90a225"
      },
      "execution_count": null,
      "outputs": [
        {
          "output_type": "stream",
          "name": "stdout",
          "text": [
            "Epoch 1/100\n",
            "455/455 [==============================] - 4s 2ms/step - loss: 1.0626 - accuracy: 0.7023\n",
            "Epoch 2/100\n",
            "455/455 [==============================] - 1s 2ms/step - loss: 0.5787 - accuracy: 0.9793\n",
            "Epoch 3/100\n",
            "455/455 [==============================] - 1s 2ms/step - loss: 0.4192 - accuracy: 0.9822\n",
            "Epoch 4/100\n",
            "455/455 [==============================] - 1s 2ms/step - loss: 0.3202 - accuracy: 0.9827\n",
            "Epoch 5/100\n",
            "455/455 [==============================] - 1s 3ms/step - loss: 0.2543 - accuracy: 0.9834\n",
            "Epoch 6/100\n",
            "455/455 [==============================] - 1s 3ms/step - loss: 0.2083 - accuracy: 0.9837\n",
            "Epoch 7/100\n",
            "455/455 [==============================] - 1s 3ms/step - loss: 0.1751 - accuracy: 0.9841\n",
            "Epoch 8/100\n",
            "455/455 [==============================] - 1s 2ms/step - loss: 0.1504 - accuracy: 0.9844\n",
            "Epoch 9/100\n",
            "455/455 [==============================] - 1s 2ms/step - loss: 0.1314 - accuracy: 0.9841\n",
            "Epoch 10/100\n",
            "455/455 [==============================] - 1s 2ms/step - loss: 0.1166 - accuracy: 0.9846\n",
            "Epoch 11/100\n",
            "455/455 [==============================] - 1s 2ms/step - loss: 0.1049 - accuracy: 0.9847\n",
            "Epoch 12/100\n",
            "455/455 [==============================] - 1s 2ms/step - loss: 0.0955 - accuracy: 0.9844\n",
            "Epoch 13/100\n",
            "455/455 [==============================] - 1s 2ms/step - loss: 0.0880 - accuracy: 0.9848\n",
            "Epoch 14/100\n",
            "455/455 [==============================] - 1s 2ms/step - loss: 0.0819 - accuracy: 0.9850\n",
            "Epoch 15/100\n",
            "455/455 [==============================] - 1s 2ms/step - loss: 0.0769 - accuracy: 0.9850\n",
            "Epoch 16/100\n",
            "455/455 [==============================] - 1s 2ms/step - loss: 0.0727 - accuracy: 0.9853\n",
            "Epoch 17/100\n",
            "455/455 [==============================] - 1s 2ms/step - loss: 0.0692 - accuracy: 0.9852\n",
            "Epoch 18/100\n",
            "455/455 [==============================] - 1s 2ms/step - loss: 0.0662 - accuracy: 0.9854\n",
            "Epoch 19/100\n",
            "455/455 [==============================] - 1s 2ms/step - loss: 0.0638 - accuracy: 0.9852\n",
            "Epoch 20/100\n",
            "455/455 [==============================] - 1s 2ms/step - loss: 0.0617 - accuracy: 0.9856\n",
            "Epoch 21/100\n",
            "455/455 [==============================] - 1s 2ms/step - loss: 0.0600 - accuracy: 0.9855\n",
            "Epoch 22/100\n",
            "455/455 [==============================] - 1s 2ms/step - loss: 0.0584 - accuracy: 0.9855\n",
            "Epoch 23/100\n",
            "455/455 [==============================] - 1s 2ms/step - loss: 0.0570 - accuracy: 0.9856\n",
            "Epoch 24/100\n",
            "455/455 [==============================] - 1s 2ms/step - loss: 0.0559 - accuracy: 0.9858\n",
            "Epoch 25/100\n",
            "455/455 [==============================] - 1s 2ms/step - loss: 0.0549 - accuracy: 0.9856\n",
            "Epoch 26/100\n",
            "455/455 [==============================] - 1s 2ms/step - loss: 0.0540 - accuracy: 0.9856\n",
            "Epoch 27/100\n",
            "455/455 [==============================] - 1s 2ms/step - loss: 0.0532 - accuracy: 0.9852\n",
            "Epoch 28/100\n",
            "455/455 [==============================] - 1s 2ms/step - loss: 0.0525 - accuracy: 0.9854\n",
            "Epoch 29/100\n",
            "455/455 [==============================] - 1s 2ms/step - loss: 0.0519 - accuracy: 0.9855\n",
            "Epoch 30/100\n",
            "455/455 [==============================] - 1s 2ms/step - loss: 0.0513 - accuracy: 0.9857\n",
            "Epoch 31/100\n",
            "455/455 [==============================] - 1s 2ms/step - loss: 0.0508 - accuracy: 0.9854\n",
            "Epoch 32/100\n",
            "455/455 [==============================] - 1s 2ms/step - loss: 0.0502 - accuracy: 0.9855\n",
            "Epoch 33/100\n",
            "455/455 [==============================] - 1s 2ms/step - loss: 0.0498 - accuracy: 0.9858\n",
            "Epoch 34/100\n",
            "455/455 [==============================] - 1s 2ms/step - loss: 0.0495 - accuracy: 0.9854\n",
            "Epoch 35/100\n",
            "455/455 [==============================] - 1s 2ms/step - loss: 0.0491 - accuracy: 0.9856\n",
            "Epoch 36/100\n",
            "455/455 [==============================] - 1s 2ms/step - loss: 0.0488 - accuracy: 0.9854\n",
            "Epoch 37/100\n",
            "455/455 [==============================] - 1s 2ms/step - loss: 0.0485 - accuracy: 0.9855\n",
            "Epoch 38/100\n",
            "455/455 [==============================] - 1s 2ms/step - loss: 0.0482 - accuracy: 0.9857\n",
            "Epoch 39/100\n",
            "455/455 [==============================] - 1s 2ms/step - loss: 0.0479 - accuracy: 0.9854\n",
            "Epoch 40/100\n",
            "455/455 [==============================] - 1s 2ms/step - loss: 0.0477 - accuracy: 0.9858\n",
            "Epoch 41/100\n",
            "455/455 [==============================] - 1s 2ms/step - loss: 0.0475 - accuracy: 0.9858\n",
            "Epoch 42/100\n",
            "455/455 [==============================] - 1s 2ms/step - loss: 0.0472 - accuracy: 0.9856\n",
            "Epoch 43/100\n",
            "455/455 [==============================] - 1s 2ms/step - loss: 0.0470 - accuracy: 0.9857\n",
            "Epoch 44/100\n",
            "455/455 [==============================] - 1s 2ms/step - loss: 0.0468 - accuracy: 0.9856\n",
            "Epoch 45/100\n",
            "455/455 [==============================] - 1s 2ms/step - loss: 0.0466 - accuracy: 0.9859\n",
            "Epoch 46/100\n",
            "455/455 [==============================] - 1s 2ms/step - loss: 0.0465 - accuracy: 0.9857\n",
            "Epoch 47/100\n",
            "455/455 [==============================] - 1s 2ms/step - loss: 0.0463 - accuracy: 0.9858\n",
            "Epoch 48/100\n",
            "455/455 [==============================] - 1s 2ms/step - loss: 0.0462 - accuracy: 0.9856\n",
            "Epoch 49/100\n",
            "455/455 [==============================] - 1s 2ms/step - loss: 0.0460 - accuracy: 0.9856\n",
            "Epoch 50/100\n",
            "455/455 [==============================] - 1s 2ms/step - loss: 0.0459 - accuracy: 0.9856\n",
            "Epoch 51/100\n",
            "455/455 [==============================] - 1s 2ms/step - loss: 0.0458 - accuracy: 0.9857\n",
            "Epoch 52/100\n",
            "455/455 [==============================] - 1s 2ms/step - loss: 0.0457 - accuracy: 0.9857\n",
            "Epoch 53/100\n",
            "455/455 [==============================] - 1s 2ms/step - loss: 0.0455 - accuracy: 0.9856\n",
            "Epoch 54/100\n",
            "455/455 [==============================] - 1s 2ms/step - loss: 0.0454 - accuracy: 0.9860\n",
            "Epoch 55/100\n",
            "455/455 [==============================] - 1s 2ms/step - loss: 0.0453 - accuracy: 0.9856\n",
            "Epoch 56/100\n",
            "455/455 [==============================] - 1s 2ms/step - loss: 0.0452 - accuracy: 0.9860\n",
            "Epoch 57/100\n",
            "455/455 [==============================] - 1s 2ms/step - loss: 0.0452 - accuracy: 0.9855\n",
            "Epoch 58/100\n",
            "455/455 [==============================] - 1s 2ms/step - loss: 0.0451 - accuracy: 0.9856\n",
            "Epoch 59/100\n",
            "455/455 [==============================] - 1s 2ms/step - loss: 0.0450 - accuracy: 0.9856\n",
            "Epoch 60/100\n",
            "455/455 [==============================] - 1s 2ms/step - loss: 0.0448 - accuracy: 0.9858\n",
            "Epoch 61/100\n",
            "455/455 [==============================] - 1s 2ms/step - loss: 0.0448 - accuracy: 0.9860\n",
            "Epoch 62/100\n",
            "455/455 [==============================] - 1s 2ms/step - loss: 0.0447 - accuracy: 0.9858\n",
            "Epoch 63/100\n",
            "455/455 [==============================] - 1s 2ms/step - loss: 0.0446 - accuracy: 0.9856\n",
            "Epoch 64/100\n",
            "455/455 [==============================] - 1s 2ms/step - loss: 0.0445 - accuracy: 0.9860\n",
            "Epoch 65/100\n",
            "455/455 [==============================] - 1s 2ms/step - loss: 0.0446 - accuracy: 0.9858\n",
            "Epoch 66/100\n",
            "455/455 [==============================] - 1s 2ms/step - loss: 0.0444 - accuracy: 0.9858\n",
            "Epoch 67/100\n",
            "455/455 [==============================] - 1s 2ms/step - loss: 0.0444 - accuracy: 0.9858\n",
            "Epoch 68/100\n",
            "455/455 [==============================] - 1s 2ms/step - loss: 0.0443 - accuracy: 0.9858\n",
            "Epoch 69/100\n",
            "455/455 [==============================] - 1s 2ms/step - loss: 0.0442 - accuracy: 0.9857\n",
            "Epoch 70/100\n",
            "455/455 [==============================] - 1s 2ms/step - loss: 0.0442 - accuracy: 0.9857\n",
            "Epoch 71/100\n",
            "455/455 [==============================] - 1s 2ms/step - loss: 0.0441 - accuracy: 0.9860\n",
            "Epoch 72/100\n",
            "455/455 [==============================] - 1s 2ms/step - loss: 0.0441 - accuracy: 0.9860\n",
            "Epoch 73/100\n",
            "455/455 [==============================] - 1s 2ms/step - loss: 0.0440 - accuracy: 0.9858\n",
            "Epoch 74/100\n",
            "455/455 [==============================] - 1s 2ms/step - loss: 0.0440 - accuracy: 0.9858\n",
            "Epoch 75/100\n",
            "455/455 [==============================] - 1s 2ms/step - loss: 0.0439 - accuracy: 0.9860\n",
            "Epoch 76/100\n",
            "455/455 [==============================] - 1s 2ms/step - loss: 0.0439 - accuracy: 0.9860\n",
            "Epoch 77/100\n",
            "455/455 [==============================] - 1s 2ms/step - loss: 0.0439 - accuracy: 0.9861\n",
            "Epoch 78/100\n",
            "455/455 [==============================] - 1s 2ms/step - loss: 0.0438 - accuracy: 0.9857\n",
            "Epoch 79/100\n",
            "455/455 [==============================] - 1s 2ms/step - loss: 0.0438 - accuracy: 0.9860\n",
            "Epoch 80/100\n",
            "455/455 [==============================] - 1s 2ms/step - loss: 0.0437 - accuracy: 0.9860\n",
            "Epoch 81/100\n",
            "455/455 [==============================] - 1s 2ms/step - loss: 0.0437 - accuracy: 0.9859\n",
            "Epoch 82/100\n",
            "455/455 [==============================] - 1s 3ms/step - loss: 0.0436 - accuracy: 0.9860\n",
            "Epoch 83/100\n",
            "455/455 [==============================] - 2s 3ms/step - loss: 0.0436 - accuracy: 0.9861\n",
            "Epoch 84/100\n",
            "455/455 [==============================] - 1s 3ms/step - loss: 0.0436 - accuracy: 0.9860\n",
            "Epoch 85/100\n",
            "455/455 [==============================] - 1s 2ms/step - loss: 0.0435 - accuracy: 0.9862\n",
            "Epoch 86/100\n",
            "455/455 [==============================] - 1s 2ms/step - loss: 0.0435 - accuracy: 0.9859\n",
            "Epoch 87/100\n",
            "455/455 [==============================] - 1s 2ms/step - loss: 0.0435 - accuracy: 0.9863\n",
            "Epoch 88/100\n",
            "455/455 [==============================] - 1s 2ms/step - loss: 0.0434 - accuracy: 0.9860\n",
            "Epoch 89/100\n",
            "455/455 [==============================] - 1s 2ms/step - loss: 0.0434 - accuracy: 0.9861\n",
            "Epoch 90/100\n",
            "455/455 [==============================] - 1s 2ms/step - loss: 0.0434 - accuracy: 0.9860\n",
            "Epoch 91/100\n",
            "455/455 [==============================] - 1s 2ms/step - loss: 0.0433 - accuracy: 0.9859\n",
            "Epoch 92/100\n",
            "455/455 [==============================] - 1s 2ms/step - loss: 0.0433 - accuracy: 0.9859\n",
            "Epoch 93/100\n",
            "455/455 [==============================] - 1s 2ms/step - loss: 0.0432 - accuracy: 0.9860\n",
            "Epoch 94/100\n",
            "455/455 [==============================] - 1s 2ms/step - loss: 0.0433 - accuracy: 0.9860\n",
            "Epoch 95/100\n",
            "455/455 [==============================] - 1s 2ms/step - loss: 0.0432 - accuracy: 0.9860\n",
            "Epoch 96/100\n",
            "455/455 [==============================] - 1s 2ms/step - loss: 0.0432 - accuracy: 0.9863\n",
            "Epoch 97/100\n",
            "455/455 [==============================] - 1s 2ms/step - loss: 0.0432 - accuracy: 0.9863\n",
            "Epoch 98/100\n",
            "455/455 [==============================] - 1s 2ms/step - loss: 0.0432 - accuracy: 0.9863\n",
            "Epoch 99/100\n",
            "455/455 [==============================] - 1s 2ms/step - loss: 0.0431 - accuracy: 0.9857\n",
            "Epoch 100/100\n",
            "455/455 [==============================] - 1s 2ms/step - loss: 0.0431 - accuracy: 0.9861\n"
          ]
        },
        {
          "output_type": "execute_result",
          "data": {
            "text/plain": [
              "<keras.callbacks.History at 0x7f1f061a9c50>"
            ]
          },
          "metadata": {},
          "execution_count": 168
        }
      ]
    },
    {
      "cell_type": "code",
      "source": [
        "model.evaluate(X_test,y_test)"
      ],
      "metadata": {
        "colab": {
          "base_uri": "https://localhost:8080/"
        },
        "id": "YQ2j4az-jUNx",
        "outputId": "b43384be-2c15-4195-9b3b-3f2de8b352b3"
      },
      "execution_count": null,
      "outputs": [
        {
          "output_type": "stream",
          "name": "stdout",
          "text": [
            "114/114 [==============================] - 1s 4ms/step - loss: 0.0402 - accuracy: 0.9857\n"
          ]
        },
        {
          "output_type": "execute_result",
          "data": {
            "text/plain": [
              "[0.040153853595256805, 0.9857025146484375]"
            ]
          },
          "metadata": {},
          "execution_count": 169
        }
      ]
    }
  ]
}